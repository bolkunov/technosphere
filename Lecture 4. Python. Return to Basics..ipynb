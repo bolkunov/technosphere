{
 "cells": [
  {
   "cell_type": "raw",
   "metadata": {},
   "source": [
    "Слайды Python (А.Г Дьяконов)\n",
    "https://alexanderdyakonov.wordpress.com/2016/10/12/питон-python/\n",
    "\n",
    "Слайды Pandas (А.Г Дьяконов)\n",
    "https://alexanderdyakonov.wordpress.com/2015/11/06/знакомство-с-pandas-слайды/\n",
    "\n",
    "Лекции по Python (Сергей Лебедев): \n",
    "https://compscicenter.ru/courses/python/2015-autumn/"
   ]
  },
  {
   "cell_type": "markdown",
   "metadata": {
    "nbpresent": {
     "id": "3a7c68f6-8cc8-4475-9609-8f02f2fe2a41"
    }
   },
   "source": [
    "# Python. Типы."
   ]
  },
  {
   "cell_type": "code",
   "execution_count": 3,
   "metadata": {
    "collapsed": false
   },
   "outputs": [
    {
     "data": {
      "text/html": [
       "<style>.container { width:90% !important; }</style>"
      ],
      "text/plain": [
       "<IPython.core.display.HTML object>"
      ]
     },
     "metadata": {},
     "output_type": "display_data"
    }
   ],
   "source": [
    "from IPython.core.display import display, HTML\n",
    "display(HTML(\"<style>.container { width:90% !important; }</style>\"))"
   ]
  },
  {
   "cell_type": "raw",
   "metadata": {
    "nbpresent": {
     "id": "e7f9cc96-1f27-4826-9424-3ae8471c454f"
    }
   },
   "source": [
    "Базовые типы:\n",
    "1. None\n",
    "2. Логические (True, False)\n",
    "3. Числовые (int, float, complex)\n",
    "4. Изменяемые коллекции (list, set, dict)\n",
    "5. Неизменяемые коллекции (tuple, frozenset)"
   ]
  },
  {
   "cell_type": "code",
   "execution_count": 38,
   "metadata": {
    "collapsed": false,
    "nbpresent": {
     "id": "56313b27-6ecd-4581-a757-a8872b4004cd"
    }
   },
   "outputs": [],
   "source": [
    "# a = None\n",
    "# b = None\n",
    "# print id(a) == id(b)\n",
    "# print id(5) == id(5)\n",
    "# print id(172) == id(272)"
   ]
  },
  {
   "cell_type": "markdown",
   "metadata": {
    "nbpresent": {
     "id": "2724e9b5-507e-4a55-af4f-1808a45219c0"
    }
   },
   "source": [
    "# Модуль Collections"
   ]
  },
  {
   "cell_type": "raw",
   "metadata": {
    "nbpresent": {
     "id": "4439e70a-f2ed-4d4b-b51a-5e21588f9ede"
    }
   },
   "source": [
    "1. Tuple-like (namedtuple)\n",
    "2. List-like (deque)\n",
    "3. Dict-like (Counter, OrderedDict, defaultdict)"
   ]
  },
  {
   "cell_type": "code",
   "execution_count": 116,
   "metadata": {
    "collapsed": false,
    "nbpresent": {
     "id": "dd7ceff4-9966-459d-a23a-9434177aa2ab"
    }
   },
   "outputs": [],
   "source": [
    "from collections import namedtuple, deque, \\\n",
    "                        Counter, OrderedDict, \\\n",
    "                        defaultdict"
   ]
  },
  {
   "cell_type": "code",
   "execution_count": null,
   "metadata": {
    "collapsed": true
   },
   "outputs": [],
   "source": []
  },
  {
   "cell_type": "code",
   "execution_count": null,
   "metadata": {
    "collapsed": true
   },
   "outputs": [],
   "source": []
  },
  {
   "cell_type": "markdown",
   "metadata": {
    "nbpresent": {
     "id": "fb19f2f3-b576-417a-a489-6728ffc77062"
    }
   },
   "source": [
    "# Коллекции"
   ]
  },
  {
   "cell_type": "markdown",
   "metadata": {
    "nbpresent": {
     "id": "082f4a14-4026-48bf-9aad-854ee6fdc3c0"
    }
   },
   "source": [
    "## Базовые методы"
   ]
  },
  {
   "cell_type": "raw",
   "metadata": {
    "nbpresent": {
     "id": "1c2a9dc6-5118-4602-804a-e9b5771efefa"
    }
   },
   "source": [
    "len - длина коллекции\n",
    "elem in collection, elem not in collection # разная сложность операций для разных collection\n",
    "del - удаление элемента"
   ]
  },
  {
   "cell_type": "code",
   "execution_count": 46,
   "metadata": {
    "collapsed": false,
    "nbpresent": {
     "id": "ad316f63-47fe-48e3-85e0-2057db2c308e"
    }
   },
   "outputs": [
    {
     "name": "stdout",
     "output_type": "stream",
     "text": [
      "() () (1,) (1, 1, 1)\n",
      "[] [1, 1] [[], []]\n",
      "set([])\n",
      "{} {}\n"
     ]
    }
   ],
   "source": [
    "print tuple(), (), (1,), (1,)*3\n",
    "print list(), [1] * 2, [[]] * 2\n",
    "print set()\n",
    "print dict(), {}"
   ]
  },
  {
   "cell_type": "code",
   "execution_count": 58,
   "metadata": {
    "collapsed": false,
    "nbpresent": {
     "id": "006b1ca0-5d9a-468f-aac4-a969998b998d"
    }
   },
   "outputs": [
    {
     "name": "stdout",
     "output_type": "stream",
     "text": [
      "[1, 3, 4, 5]\n",
      "True False False\n"
     ]
    }
   ],
   "source": [
    "a = [1, 2, 3, 4, 5]\n",
    "del a[1]\n",
    "print a\n",
    "print 1 in a, 2 in a, 'asd' in a"
   ]
  },
  {
   "cell_type": "code",
   "execution_count": 60,
   "metadata": {
    "collapsed": false,
    "nbpresent": {
     "id": "73551960-c564-4372-afe8-4c8ef0d07a6a"
    }
   },
   "outputs": [
    {
     "name": "stdout",
     "output_type": "stream",
     "text": [
      "{'key_2': 2}\n",
      "True False\n"
     ]
    }
   ],
   "source": [
    "d = {'key_1': 1, 'key_2': 2}\n",
    "del d['key_1']\n",
    "print d\n",
    "print 'key_2' in d, 2 in d"
   ]
  },
  {
   "cell_type": "code",
   "execution_count": null,
   "metadata": {
    "collapsed": true
   },
   "outputs": [],
   "source": []
  },
  {
   "cell_type": "code",
   "execution_count": null,
   "metadata": {
    "collapsed": true
   },
   "outputs": [],
   "source": []
  },
  {
   "cell_type": "markdown",
   "metadata": {
    "nbpresent": {
     "id": "4e1ccf15-142f-419a-aef8-9ad67f0a211b"
    }
   },
   "source": [
    "## Изменяемые vs Неизменяемые"
   ]
  },
  {
   "cell_type": "code",
   "execution_count": 1,
   "metadata": {
    "collapsed": false,
    "nbpresent": {
     "id": "d6f0b73d-c370-4dfc-9d38-ae637a7bb74b"
    }
   },
   "outputs": [
    {
     "name": "stdout",
     "output_type": "stream",
     "text": [
      "[1, 2, 3]\n",
      "[1, 2, 3, 4]\n",
      "Has id changed (list)? False\n"
     ]
    }
   ],
   "source": [
    "# Изменяемые (list, set, dict, deque, Counter, OrderedDict, defaultdict)\n",
    "\n",
    "lst = [1, 2, 3]\n",
    "prev_id = id(lst)\n",
    "print lst\n",
    "lst += [4]  # lst.append(4)\n",
    "new_id = id(lst)\n",
    "print lst\n",
    "print 'Has id changed (list)?', prev_id != new_id"
   ]
  },
  {
   "cell_type": "code",
   "execution_count": 2,
   "metadata": {
    "collapsed": false
   },
   "outputs": [
    {
     "name": "stdout",
     "output_type": "stream",
     "text": [
      "(1, 2, 3)\n",
      "(1, 2, 3, 4)\n",
      "Has id changed (tuple)? True\n"
     ]
    }
   ],
   "source": [
    "# Неизменяемые (tuple, namedtuple)\n",
    "tpl = (1, 2, 3)\n",
    "prev_id = id(tpl)\n",
    "print tpl\n",
    "tpl += (4,)  # Запятая нужна! \n",
    "print tpl\n",
    "new_id = id(tpl)\n",
    "print 'Has id changed (tuple)?', prev_id != new_id"
   ]
  },
  {
   "cell_type": "markdown",
   "metadata": {},
   "source": [
    "## Сложность\n",
    "https://wiki.python.org/moin/TimeComplexity"
   ]
  },
  {
   "cell_type": "markdown",
   "metadata": {
    "nbpresent": {
     "id": "1d28cd53-1546-4e85-83f9-7e7b12a422e0"
    }
   },
   "source": [
    "# Tuple"
   ]
  },
  {
   "cell_type": "code",
   "execution_count": 94,
   "metadata": {
    "collapsed": true,
    "nbpresent": {
     "id": "c01ca1cc-f568-4815-8875-a000a8c79684"
    }
   },
   "outputs": [],
   "source": [
    "# http://stackoverflow.com/questions/6153348/time-complexity-of-tuple-in-python\n",
    "profile = (1, 'Pavel', 'Durov', 1984, 'Telegram')"
   ]
  },
  {
   "cell_type": "code",
   "execution_count": 84,
   "metadata": {
    "collapsed": false,
    "nbpresent": {
     "id": "0db904e1-42f4-421d-a105-c3becb5d508f"
    }
   },
   "outputs": [],
   "source": [
    "name = profile[1:3]"
   ]
  },
  {
   "cell_type": "code",
   "execution_count": 121,
   "metadata": {
    "collapsed": false
   },
   "outputs": [
    {
     "data": {
      "text/plain": [
       "('Pavel', 'Durov')"
      ]
     },
     "execution_count": 121,
     "metadata": {},
     "output_type": "execute_result"
    }
   ],
   "source": [
    "name"
   ]
  },
  {
   "cell_type": "code",
   "execution_count": 1,
   "metadata": {
    "collapsed": false
   },
   "outputs": [],
   "source": [
    "NAME_SLICE = slice(1, 3)"
   ]
  },
  {
   "cell_type": "code",
   "execution_count": 90,
   "metadata": {
    "collapsed": false
   },
   "outputs": [
    {
     "name": "stdout",
     "output_type": "stream",
     "text": [
      "('Pavel', 'Durov')\n"
     ]
    }
   ],
   "source": [
    "print profile[NAME_SLICE]"
   ]
  },
  {
   "cell_type": "markdown",
   "metadata": {},
   "source": [
    "# Namedtuple"
   ]
  },
  {
   "cell_type": "code",
   "execution_count": 2,
   "metadata": {
    "collapsed": false,
    "scrolled": true
   },
   "outputs": [
    {
     "name": "stdout",
     "output_type": "stream",
     "text": [
      "class VkProfile(tuple):\n",
      "    'VkProfile(vk_id, name, surname, year, work)'\n",
      "\n",
      "    __slots__ = ()\n",
      "\n",
      "    _fields = ('vk_id', 'name', 'surname', 'year', 'work')\n",
      "\n",
      "    def __new__(_cls, vk_id, name, surname, year, work):\n",
      "        'Create new instance of VkProfile(vk_id, name, surname, year, work)'\n",
      "        return _tuple.__new__(_cls, (vk_id, name, surname, year, work))\n",
      "\n",
      "    @classmethod\n",
      "    def _make(cls, iterable, new=tuple.__new__, len=len):\n",
      "        'Make a new VkProfile object from a sequence or iterable'\n",
      "        result = new(cls, iterable)\n",
      "        if len(result) != 5:\n",
      "            raise TypeError('Expected 5 arguments, got %d' % len(result))\n",
      "        return result\n",
      "\n",
      "    def __repr__(self):\n",
      "        'Return a nicely formatted representation string'\n",
      "        return 'VkProfile(vk_id=%r, name=%r, surname=%r, year=%r, work=%r)' % self\n",
      "\n",
      "    def _asdict(self):\n",
      "        'Return a new OrderedDict which maps field names to their values'\n",
      "        return OrderedDict(zip(self._fields, self))\n",
      "\n",
      "    def _replace(_self, **kwds):\n",
      "        'Return a new VkProfile object replacing specified fields with new values'\n",
      "        result = _self._make(map(kwds.pop, ('vk_id', 'name', 'surname', 'year', 'work'), _self))\n",
      "        if kwds:\n",
      "            raise ValueError('Got unexpected field names: %r' % kwds.keys())\n",
      "        return result\n",
      "\n",
      "    def __getnewargs__(self):\n",
      "        'Return self as a plain tuple.  Used by copy and pickle.'\n",
      "        return tuple(self)\n",
      "\n",
      "    __dict__ = _property(_asdict)\n",
      "\n",
      "    def __getstate__(self):\n",
      "        'Exclude the OrderedDict from pickling'\n",
      "        pass\n",
      "\n",
      "    vk_id = _property(_itemgetter(0), doc='Alias for field number 0')\n",
      "\n",
      "    name = _property(_itemgetter(1), doc='Alias for field number 1')\n",
      "\n",
      "    surname = _property(_itemgetter(2), doc='Alias for field number 2')\n",
      "\n",
      "    year = _property(_itemgetter(3), doc='Alias for field number 3')\n",
      "\n",
      "    work = _property(_itemgetter(4), doc='Alias for field number 4')\n",
      "\n",
      "\n"
     ]
    }
   ],
   "source": [
    "from collections import namedtuple\n",
    "fiels = ['vk_id', 'name', 'surname', 'year', 'work']\n",
    "VkProfile = namedtuple('VkProfile', fiels, verbose=True)"
   ]
  },
  {
   "cell_type": "code",
   "execution_count": 5,
   "metadata": {
    "collapsed": true
   },
   "outputs": [],
   "source": [
    "profile_nt = VkProfile(vk_id=1, name='Pavel', \n",
    "                       surname='Durov', \n",
    "                       year=1984, \n",
    "                       work='Telegram')"
   ]
  },
  {
   "cell_type": "code",
   "execution_count": 6,
   "metadata": {
    "collapsed": false
   },
   "outputs": [
    {
     "data": {
      "text/plain": [
       "('Pavel', 'Durov')"
      ]
     },
     "execution_count": 6,
     "metadata": {},
     "output_type": "execute_result"
    }
   ],
   "source": [
    "profile_nt.name, profile_nt.surname"
   ]
  },
  {
   "cell_type": "code",
   "execution_count": 7,
   "metadata": {
    "collapsed": false
   },
   "outputs": [
    {
     "data": {
      "text/plain": [
       "VkProfile(vk_id=1, name='Pavel', surname='Durov', year=1984, work='new job')"
      ]
     },
     "execution_count": 7,
     "metadata": {},
     "output_type": "execute_result"
    }
   ],
   "source": [
    "profile_nt._replace(work='new job')"
   ]
  },
  {
   "cell_type": "code",
   "execution_count": 8,
   "metadata": {
    "collapsed": false
   },
   "outputs": [
    {
     "data": {
      "text/plain": [
       "OrderedDict([('vk_id', 1),\n",
       "             ('name', 'Pavel'),\n",
       "             ('surname', 'Durov'),\n",
       "             ('year', 1984),\n",
       "             ('work', 'Telegram')])"
      ]
     },
     "execution_count": 8,
     "metadata": {},
     "output_type": "execute_result"
    }
   ],
   "source": [
    "profile_nt._asdict()"
   ]
  },
  {
   "cell_type": "code",
   "execution_count": null,
   "metadata": {
    "collapsed": true
   },
   "outputs": [],
   "source": []
  },
  {
   "cell_type": "code",
   "execution_count": null,
   "metadata": {
    "collapsed": true
   },
   "outputs": [],
   "source": []
  },
  {
   "cell_type": "code",
   "execution_count": null,
   "metadata": {
    "collapsed": true
   },
   "outputs": [],
   "source": []
  },
  {
   "cell_type": "markdown",
   "metadata": {},
   "source": [
    "# List"
   ]
  },
  {
   "cell_type": "markdown",
   "metadata": {},
   "source": [
    "## Базовые операции"
   ]
  },
  {
   "cell_type": "code",
   "execution_count": 16,
   "metadata": {
    "collapsed": false
   },
   "outputs": [
    {
     "name": "stdout",
     "output_type": "stream",
     "text": [
      "['start', 1]\n"
     ]
    }
   ],
   "source": [
    "a = ['start']\n",
    "\n",
    "# Добавление одного элемента в конец списка\n",
    "a.append(1)  # O(1)\n",
    "print a"
   ]
  },
  {
   "cell_type": "code",
   "execution_count": 17,
   "metadata": {
    "collapsed": false
   },
   "outputs": [
    {
     "name": "stdout",
     "output_type": "stream",
     "text": [
      "['start', 1, 2, 3]\n"
     ]
    }
   ],
   "source": [
    "# Добавление k элементов в конец списка\n",
    "a.extend([2, 3])  # O(k)\n",
    "print a"
   ]
  },
  {
   "cell_type": "code",
   "execution_count": 18,
   "metadata": {
    "collapsed": false
   },
   "outputs": [
    {
     "name": "stdout",
     "output_type": "stream",
     "text": [
      "start\n"
     ]
    }
   ],
   "source": [
    "# Доступ к элементу по индексу\n",
    "print a[0]  # O(1)"
   ]
  },
  {
   "cell_type": "code",
   "execution_count": 19,
   "metadata": {
    "collapsed": false
   },
   "outputs": [
    {
     "name": "stdout",
     "output_type": "stream",
     "text": [
      "['start', 1, 'new_element', 2, 3]\n"
     ]
    }
   ],
   "source": [
    "# Вставка элемента внутрь списка\n",
    "a.insert(2, 'new_element')  # O(n)\n",
    "print a"
   ]
  },
  {
   "cell_type": "code",
   "execution_count": 20,
   "metadata": {
    "collapsed": false
   },
   "outputs": [
    {
     "name": "stdout",
     "output_type": "stream",
     "text": [
      "1 ['start', 'new_element', 2, 3]\n",
      "1 ['start', 2, 3]\n"
     ]
    }
   ],
   "source": [
    "# Удаление элемента из списка по индексу\n",
    "ret = a.pop(1)  # O(n) - с вовзращением элемента\n",
    "print ret, a\n",
    "del a[1]  # O(n) - без вовзращения элемента\n",
    "print ret, a"
   ]
  },
  {
   "cell_type": "code",
   "execution_count": 22,
   "metadata": {
    "collapsed": false
   },
   "outputs": [
    {
     "name": "stdout",
     "output_type": "stream",
     "text": [
      "[2, 3, 'start']\n",
      "['start', 2, 3]\n",
      "[2, 3, 'start']\n"
     ]
    }
   ],
   "source": [
    "# Сортировка https://en.wikipedia.org/wiki/Timsort\n",
    "print sorted(a)  # без изменения исходного списка\n",
    "print a\n",
    "a.sort()  # с изменением исходного списка\n",
    "print a  "
   ]
  },
  {
   "cell_type": "code",
   "execution_count": 54,
   "metadata": {
    "collapsed": false
   },
   "outputs": [
    {
     "data": {
      "text/plain": [
       "True"
      ]
     },
     "execution_count": 54,
     "metadata": {},
     "output_type": "execute_result"
    }
   ],
   "source": [
    "# Наличие элемента в списке\n",
    "'start' in a  # O(n) !!!"
   ]
  },
  {
   "cell_type": "markdown",
   "metadata": {},
   "source": [
    "## Особенности копирования"
   ]
  },
  {
   "cell_type": "markdown",
   "metadata": {},
   "source": [
    "### Как не работает? "
   ]
  },
  {
   "cell_type": "code",
   "execution_count": 3,
   "metadata": {
    "collapsed": false
   },
   "outputs": [
    {
     "data": {
      "text/plain": [
       "[[0], [0]]"
      ]
     },
     "execution_count": 3,
     "metadata": {},
     "output_type": "execute_result"
    }
   ],
   "source": [
    "x = [[0]] * 2\n",
    "x"
   ]
  },
  {
   "cell_type": "code",
   "execution_count": 4,
   "metadata": {
    "collapsed": false
   },
   "outputs": [
    {
     "data": {
      "text/plain": [
       "[[1], [1]]"
      ]
     },
     "execution_count": 4,
     "metadata": {},
     "output_type": "execute_result"
    }
   ],
   "source": [
    "x[0][0] = 1\n",
    "x"
   ]
  },
  {
   "cell_type": "code",
   "execution_count": 5,
   "metadata": {
    "collapsed": false
   },
   "outputs": [
    {
     "data": {
      "text/plain": [
       "True"
      ]
     },
     "execution_count": 5,
     "metadata": {},
     "output_type": "execute_result"
    }
   ],
   "source": [
    "id(x[0]) == id(x[1])"
   ]
  },
  {
   "cell_type": "code",
   "execution_count": 6,
   "metadata": {
    "collapsed": false
   },
   "outputs": [
    {
     "data": {
      "text/plain": [
       "[[1], [1], [1], [1]]"
      ]
     },
     "execution_count": 6,
     "metadata": {},
     "output_type": "execute_result"
    }
   ],
   "source": [
    "y = x + x\n",
    "y"
   ]
  },
  {
   "cell_type": "code",
   "execution_count": 7,
   "metadata": {
    "collapsed": false
   },
   "outputs": [
    {
     "data": {
      "text/plain": [
       "[[2], [2], [2], [2]]"
      ]
     },
     "execution_count": 7,
     "metadata": {},
     "output_type": "execute_result"
    }
   ],
   "source": [
    "y[0][0] = 2\n",
    "y"
   ]
  },
  {
   "cell_type": "markdown",
   "metadata": {},
   "source": [
    "### А как работает?"
   ]
  },
  {
   "cell_type": "code",
   "execution_count": 32,
   "metadata": {
    "collapsed": false
   },
   "outputs": [
    {
     "name": "stdout",
     "output_type": "stream",
     "text": [
      "[[0], [0]]\n",
      "[[1], [0]]\n"
     ]
    }
   ],
   "source": [
    "x = [[0] for x in xrange(2)]\n",
    "print x\n",
    "x[0][0] = 1\n",
    "print x"
   ]
  },
  {
   "cell_type": "markdown",
   "metadata": {},
   "source": [
    "### Как скопировать список? "
   ]
  },
  {
   "cell_type": "code",
   "execution_count": 8,
   "metadata": {
    "collapsed": false
   },
   "outputs": [
    {
     "data": {
      "text/plain": [
       "True"
      ]
     },
     "execution_count": 8,
     "metadata": {},
     "output_type": "execute_result"
    }
   ],
   "source": [
    "x = [1, 2, 3]\n",
    "y = x\n",
    "id(x) == id(y)"
   ]
  },
  {
   "cell_type": "code",
   "execution_count": 9,
   "metadata": {
    "collapsed": false
   },
   "outputs": [
    {
     "name": "stdout",
     "output_type": "stream",
     "text": [
      "y=x[:] False\n",
      "y=list(x) False\n",
      "y=copy(x) False\n"
     ]
    }
   ],
   "source": [
    "y = x[:]\n",
    "print 'y=x[:]', id(x) == id(y)\n",
    "\n",
    "y = list(x)\n",
    "print 'y=list(x)', id(x) == id(y)\n",
    "\n",
    "from copy import copy\n",
    "y = copy(x)\n",
    "print 'y=copy(x)', id(x) == id(y)"
   ]
  },
  {
   "cell_type": "code",
   "execution_count": 10,
   "metadata": {
    "collapsed": true
   },
   "outputs": [],
   "source": [
    "x = [[1, 2], [3, 4]]"
   ]
  },
  {
   "cell_type": "code",
   "execution_count": 48,
   "metadata": {
    "collapsed": false
   },
   "outputs": [
    {
     "name": "stdout",
     "output_type": "stream",
     "text": [
      " y=x[:] True\n",
      "y=list(x) True\n",
      "y=copy(x) True\n"
     ]
    }
   ],
   "source": [
    "y = x[:]\n",
    "print 'y=x[:]', id(x[0]) == id(y[0])\n",
    "\n",
    "y = list(x)\n",
    "print 'y=list(x)', id(x[0]) == id(y[0])\n",
    "\n",
    "from copy import copy\n",
    "y = copy(x)\n",
    "print 'y=copy(x)', id(x[0]) == id(y[0])"
   ]
  },
  {
   "cell_type": "code",
   "execution_count": 50,
   "metadata": {
    "collapsed": false
   },
   "outputs": [
    {
     "name": "stdout",
     "output_type": "stream",
     "text": [
      "False\n"
     ]
    }
   ],
   "source": [
    "from copy import deepcopy\n",
    "y = deepcopy(x)\n",
    "print id(x[0]) == id(y[0])"
   ]
  },
  {
   "cell_type": "markdown",
   "metadata": {},
   "source": [
    "# Deque"
   ]
  },
  {
   "cell_type": "code",
   "execution_count": 62,
   "metadata": {
    "collapsed": true
   },
   "outputs": [],
   "source": [
    "from collections import deque"
   ]
  },
  {
   "cell_type": "code",
   "execution_count": 63,
   "metadata": {
    "collapsed": true
   },
   "outputs": [],
   "source": [
    "deq = deque([1, 2, 3])"
   ]
  },
  {
   "cell_type": "code",
   "execution_count": 64,
   "metadata": {
    "collapsed": false
   },
   "outputs": [
    {
     "name": "stdout",
     "output_type": "stream",
     "text": [
      "deque([1, 2, 3, 100])\n"
     ]
    }
   ],
   "source": [
    "deq.append(100)  # O(1)\n",
    "print deq"
   ]
  },
  {
   "cell_type": "code",
   "execution_count": 65,
   "metadata": {
    "collapsed": false
   },
   "outputs": [
    {
     "name": "stdout",
     "output_type": "stream",
     "text": [
      "deque([-7, 1, 2, 3, 100])\n"
     ]
    }
   ],
   "source": [
    "deq.appendleft(-7)  # O(1)\n",
    "print deq"
   ]
  },
  {
   "cell_type": "code",
   "execution_count": 73,
   "metadata": {
    "collapsed": false
   },
   "outputs": [
    {
     "ename": "TypeError",
     "evalue": "sequence index must be integer, not 'slice'",
     "output_type": "error",
     "traceback": [
      "\u001b[0;31m---------------------------------------------------------------------------\u001b[0m",
      "\u001b[0;31mTypeError\u001b[0m                                 Traceback (most recent call last)",
      "\u001b[0;32m<ipython-input-73-a9f7475cba86>\u001b[0m in \u001b[0;36m<module>\u001b[0;34m()\u001b[0m\n\u001b[1;32m      1\u001b[0m \u001b[0;31m# Добавление и удаление элемента с обеих сторон очереди работает за константное время.\u001b[0m\u001b[0;34m\u001b[0m\u001b[0;34m\u001b[0m\u001b[0m\n\u001b[1;32m      2\u001b[0m \u001b[0;31m# Но нет slice!\u001b[0m\u001b[0;34m\u001b[0m\u001b[0;34m\u001b[0m\u001b[0m\n\u001b[0;32m----> 3\u001b[0;31m \u001b[0mdec\u001b[0m\u001b[0;34m[\u001b[0m\u001b[0;36m1\u001b[0m\u001b[0;34m:\u001b[0m\u001b[0;36m3\u001b[0m\u001b[0;34m]\u001b[0m\u001b[0;34m\u001b[0m\u001b[0m\n\u001b[0m",
      "\u001b[0;31mTypeError\u001b[0m: sequence index must be integer, not 'slice'"
     ]
    }
   ],
   "source": [
    "# Добавление и удаление элемента с обеих сторон очереди работает за константное время.\n",
    "# Но нет slice! \n",
    "deq[1:3]"
   ]
  },
  {
   "cell_type": "markdown",
   "metadata": {},
   "source": [
    "### Очереди с ограниченной длинной можно создать с помощью параметра max_len\n",
    "deq = deque([1, 2, 3], maxlen=3)"
   ]
  },
  {
   "cell_type": "markdown",
   "metadata": {},
   "source": [
    "# Множества (set, frozenset)"
   ]
  },
  {
   "cell_type": "markdown",
   "metadata": {},
   "source": [
    "### Общее frozenset и set"
   ]
  },
  {
   "cell_type": "markdown",
   "metadata": {},
   "source": [
    "### В Python — это хеш-сет, то есть оно может содержать только элементы, которые можно захешировать (неизменяемые типы - хешируемые, изменяемые - нет) "
   ]
  },
  {
   "cell_type": "code",
   "execution_count": 99,
   "metadata": {
    "collapsed": false
   },
   "outputs": [
    {
     "data": {
      "text/plain": [
       "{(2, 3)}"
      ]
     },
     "execution_count": 99,
     "metadata": {},
     "output_type": "execute_result"
    }
   ],
   "source": [
    "{(2, 3)}"
   ]
  },
  {
   "cell_type": "code",
   "execution_count": 100,
   "metadata": {
    "collapsed": false
   },
   "outputs": [
    {
     "ename": "TypeError",
     "evalue": "unhashable type: 'list'",
     "output_type": "error",
     "traceback": [
      "\u001b[0;31m---------------------------------------------------------------------------\u001b[0m",
      "\u001b[0;31mTypeError\u001b[0m                                 Traceback (most recent call last)",
      "\u001b[0;32m<ipython-input-100-39f49da4f433>\u001b[0m in \u001b[0;36m<module>\u001b[0;34m()\u001b[0m\n\u001b[0;32m----> 1\u001b[0;31m \u001b[0;34m{\u001b[0m\u001b[0;34m[\u001b[0m\u001b[0;36m2\u001b[0m\u001b[0;34m,\u001b[0m \u001b[0;36m3\u001b[0m\u001b[0;34m]\u001b[0m\u001b[0;34m}\u001b[0m\u001b[0;34m\u001b[0m\u001b[0m\n\u001b[0m",
      "\u001b[0;31mTypeError\u001b[0m: unhashable type: 'list'"
     ]
    }
   ],
   "source": [
    "{[2, 3]}"
   ]
  },
  {
   "cell_type": "code",
   "execution_count": 101,
   "metadata": {
    "collapsed": false
   },
   "outputs": [
    {
     "ename": "TypeError",
     "evalue": "unhashable type: 'set'",
     "output_type": "error",
     "traceback": [
      "\u001b[0;31m---------------------------------------------------------------------------\u001b[0m",
      "\u001b[0;31mTypeError\u001b[0m                                 Traceback (most recent call last)",
      "\u001b[0;32m<ipython-input-101-80e808a7aa28>\u001b[0m in \u001b[0;36m<module>\u001b[0;34m()\u001b[0m\n\u001b[0;32m----> 1\u001b[0;31m \u001b[0;34m{\u001b[0m\u001b[0mset\u001b[0m\u001b[0;34m(\u001b[0m\u001b[0;34m)\u001b[0m\u001b[0;34m,\u001b[0m \u001b[0mset\u001b[0m\u001b[0;34m(\u001b[0m\u001b[0;34m)\u001b[0m\u001b[0;34m}\u001b[0m\u001b[0;34m\u001b[0m\u001b[0m\n\u001b[0m",
      "\u001b[0;31mTypeError\u001b[0m: unhashable type: 'set'"
     ]
    }
   ],
   "source": [
    "{set(), set()}"
   ]
  },
  {
   "cell_type": "code",
   "execution_count": 102,
   "metadata": {
    "collapsed": false
   },
   "outputs": [
    {
     "data": {
      "text/plain": [
       "{frozenset()}"
      ]
     },
     "execution_count": 102,
     "metadata": {},
     "output_type": "execute_result"
    }
   ],
   "source": [
    "{frozenset(), frozenset()}"
   ]
  },
  {
   "cell_type": "code",
   "execution_count": null,
   "metadata": {
    "collapsed": true
   },
   "outputs": [],
   "source": [
    "elems = {1, 2, 'py'}"
   ]
  },
  {
   "cell_type": "code",
   "execution_count": 77,
   "metadata": {
    "collapsed": false
   },
   "outputs": [
    {
     "name": "stdout",
     "output_type": "stream",
     "text": [
      "True\n",
      "True\n"
     ]
    }
   ],
   "source": [
    "print 1 in elems  # O(1) !!! \n",
    "print 'py' in elems  # O(1) !!!"
   ]
  },
  {
   "cell_type": "code",
   "execution_count": 81,
   "metadata": {
    "collapsed": false
   },
   "outputs": [
    {
     "name": "stdout",
     "output_type": "stream",
     "text": [
      "set([1, 2, 'py', 4])\n",
      "set([1, 2, 'py', 4])\n"
     ]
    }
   ],
   "source": [
    "# Объединение\n",
    "print elems.union({1, 4})\n",
    "print elems | {1, 4}"
   ]
  },
  {
   "cell_type": "code",
   "execution_count": 82,
   "metadata": {
    "collapsed": false
   },
   "outputs": [
    {
     "name": "stdout",
     "output_type": "stream",
     "text": [
      "set([1])\n",
      "set([1])\n"
     ]
    }
   ],
   "source": [
    "# Пересечение\n",
    "print elems.intersection({1, 4})\n",
    "print elems & {1, 4}"
   ]
  },
  {
   "cell_type": "code",
   "execution_count": 86,
   "metadata": {
    "collapsed": false
   },
   "outputs": [
    {
     "name": "stdout",
     "output_type": "stream",
     "text": [
      "set([2, 'py'])\n",
      "set([2, 'py'])\n"
     ]
    }
   ],
   "source": [
    "# Разность\n",
    "print elems.difference({1, 4})\n",
    "print elems - {1, 4}"
   ]
  },
  {
   "cell_type": "code",
   "execution_count": 12,
   "metadata": {
    "collapsed": false
   },
   "outputs": [
    {
     "name": "stdout",
     "output_type": "stream",
     "text": [
      "False\n",
      "False\n",
      "False\n"
     ]
    }
   ],
   "source": [
    "# Вложения\n",
    "a = {1, 3}\n",
    "b = {2, 3}\n",
    "print a >= b\n",
    "print a > b\n",
    "print a < b"
   ]
  },
  {
   "cell_type": "markdown",
   "metadata": {},
   "source": [
    "### Только set"
   ]
  },
  {
   "cell_type": "code",
   "execution_count": 93,
   "metadata": {
    "collapsed": false
   },
   "outputs": [],
   "source": [
    "# Добавление\n",
    "a.add(5)\n",
    "a.update([1, 5])\n",
    "# Удаление\n",
    "a.remove(5) # remove удаляет из множества существующий элемент или \n",
    "            # поднимает исключение, если элемент во множестве не содержится\n",
    "a.discard(5) # discard удаляет элемент, только если он содержится во множестве"
   ]
  },
  {
   "cell_type": "markdown",
   "metadata": {},
   "source": [
    "# Словари"
   ]
  },
  {
   "cell_type": "code",
   "execution_count": 127,
   "metadata": {
    "collapsed": true
   },
   "outputs": [],
   "source": [
    "d = {'a': 1, 'b': 2, 'c': 5, 'd': 'yes'}\n",
    "d = dict(a=1, b=2, c=5, d='yes')"
   ]
  },
  {
   "cell_type": "code",
   "execution_count": 128,
   "metadata": {
    "collapsed": false
   },
   "outputs": [
    {
     "data": {
      "text/plain": [
       "True"
      ]
     },
     "execution_count": 128,
     "metadata": {},
     "output_type": "execute_result"
    }
   ],
   "source": [
    "# Проверка наличия ключа в словаре\n",
    "'a' in d  # O(1) !!!"
   ]
  },
  {
   "cell_type": "code",
   "execution_count": 129,
   "metadata": {
    "collapsed": false
   },
   "outputs": [
    {
     "name": "stdout",
     "output_type": "stream",
     "text": [
      "default\n",
      "default\n"
     ]
    },
    {
     "ename": "KeyError",
     "evalue": "'default'",
     "output_type": "error",
     "traceback": [
      "\u001b[0;31m---------------------------------------------------------------------------\u001b[0m",
      "\u001b[0;31mKeyError\u001b[0m                                  Traceback (most recent call last)",
      "\u001b[0;32m<ipython-input-129-9d07264bbdbf>\u001b[0m in \u001b[0;36m<module>\u001b[0;34m()\u001b[0m\n\u001b[1;32m      4\u001b[0m \u001b[0;32mprint\u001b[0m \u001b[0md\u001b[0m\u001b[0;34m[\u001b[0m\u001b[0mkey\u001b[0m\u001b[0;34m]\u001b[0m \u001b[0;32mif\u001b[0m \u001b[0mkey\u001b[0m \u001b[0;32min\u001b[0m \u001b[0md\u001b[0m \u001b[0;32melse\u001b[0m \u001b[0mdefault_val\u001b[0m\u001b[0;34m\u001b[0m\u001b[0m\n\u001b[1;32m      5\u001b[0m \u001b[0;32mprint\u001b[0m \u001b[0md\u001b[0m\u001b[0;34m.\u001b[0m\u001b[0mget\u001b[0m\u001b[0;34m(\u001b[0m\u001b[0mkey\u001b[0m\u001b[0;34m,\u001b[0m \u001b[0mdefault_val\u001b[0m\u001b[0;34m)\u001b[0m\u001b[0;34m\u001b[0m\u001b[0m\n\u001b[0;32m----> 6\u001b[0;31m \u001b[0;32mprint\u001b[0m \u001b[0md\u001b[0m\u001b[0;34m[\u001b[0m\u001b[0mkey\u001b[0m\u001b[0;34m]\u001b[0m\u001b[0;34m\u001b[0m\u001b[0m\n\u001b[0m",
      "\u001b[0;31mKeyError\u001b[0m: 'default'"
     ]
    }
   ],
   "source": [
    "key = 'default'\n",
    "default_val = 'default'\n",
    "# Следующее равносильно\n",
    "print d[key] if key in d else default_val\n",
    "print d.get(key, default_val)\n",
    "print d[key]"
   ]
  },
  {
   "cell_type": "code",
   "execution_count": 130,
   "metadata": {
    "collapsed": false
   },
   "outputs": [
    {
     "name": "stdout",
     "output_type": "stream",
     "text": [
      "['a', 'c', 'b', 'd']\n",
      "[1, 5, 2, 'yes']\n",
      "[('a', 1), ('c', 5), ('b', 2), ('d', 'yes')]\n"
     ]
    }
   ],
   "source": [
    "print d.keys()\n",
    "print d.values()\n",
    "print d.items()"
   ]
  },
  {
   "cell_type": "code",
   "execution_count": 131,
   "metadata": {
    "collapsed": false
   },
   "outputs": [
    {
     "name": "stdout",
     "output_type": "stream",
     "text": [
      "{'a': 1, 'c': 5, 'b': 2, 'd': 'yes', 'z': 0}\n",
      "{'a': 1, 'c': 5, 'b': 2, 'd': 'yes', 'w': -2, 'y': -1, 'z': 0}\n"
     ]
    }
   ],
   "source": [
    "# Добавление в словарь\n",
    "d['z'] = 0\n",
    "print d\n",
    "d.update({'y': -1, 'w': -2})\n",
    "print d"
   ]
  },
  {
   "cell_type": "code",
   "execution_count": 135,
   "metadata": {
    "collapsed": true
   },
   "outputs": [],
   "source": [
    "# Удаление из словаря\n",
    "del d['a']"
   ]
  },
  {
   "cell_type": "code",
   "execution_count": 136,
   "metadata": {
    "collapsed": false
   },
   "outputs": [
    {
     "name": "stdout",
     "output_type": "stream",
     "text": [
      "c 5\n",
      "b 2\n",
      "d yes\n",
      "w -2\n",
      "y -1\n",
      "z 0\n"
     ]
    }
   ],
   "source": [
    "for k in d:  # тоже самое, что и d.keys()\n",
    "    print k, d[k]"
   ]
  },
  {
   "cell_type": "code",
   "execution_count": 18,
   "metadata": {
    "collapsed": false
   },
   "outputs": [
    {
     "name": "stdout",
     "output_type": "stream",
     "text": [
      "({'a': 1, 'c': 4, 'b': 3}, {'a': 1, 'b': 2}, {'c': 4, 'b': 3})\n",
      "({'a': 1, 'c': 4, 'b': 3}, {'a': 1, 'b': 2}, {'c': 4, 'b': 3})\n"
     ]
    }
   ],
   "source": [
    "# Объединение словарей без их изменения\n",
    "dct1 = {'a':1, 'b':2}\n",
    "dct2 = {'b':3, 'c':4}\n",
    "union = dct1.copy()\n",
    "union.update(dct2)\n",
    "print(union, dct1, dct2)\n",
    "\n",
    "dct1 = {'a':1, 'b':2}\n",
    "dct2 = {'b':3, 'c':4}\n",
    "union  = dict(dct1, **dct2)  # про ** будет чуть позже\n",
    "print(union, dct1, dct2)"
   ]
  },
  {
   "cell_type": "code",
   "execution_count": 20,
   "metadata": {
    "collapsed": false
   },
   "outputs": [
    {
     "name": "stdout",
     "output_type": "stream",
     "text": [
      "Success\n"
     ]
    }
   ],
   "source": [
    "# в Python нет switch, но есть словари) \n",
    "def fail_func():\n",
    "    print('Fail')\n",
    "    \n",
    "def success_func():\n",
    "    print('Success')\n",
    "    \n",
    "cases = {'case_1': fail_func, 'case_2': success_func}\n",
    "\n",
    "cases['case_2']()"
   ]
  },
  {
   "cell_type": "markdown",
   "metadata": {},
   "source": [
    "## OrderedDict"
   ]
  },
  {
   "cell_type": "code",
   "execution_count": 150,
   "metadata": {
    "collapsed": true
   },
   "outputs": [],
   "source": [
    "from collections import OrderedDict\n",
    "# словарь с ключами, упорядоченными по времени добавления\n",
    "# Изменение значения по ключу не влияет на порядок ключей в словаре"
   ]
  },
  {
   "cell_type": "markdown",
   "metadata": {},
   "source": [
    "## Counter"
   ]
  },
  {
   "cell_type": "code",
   "execution_count": 22,
   "metadata": {
    "collapsed": true
   },
   "outputs": [],
   "source": [
    "from collections import Counter"
   ]
  },
  {
   "cell_type": "code",
   "execution_count": 23,
   "metadata": {
    "collapsed": false
   },
   "outputs": [
    {
     "data": {
      "text/plain": [
       "Counter({1: 3, 2: 1, 3: 1})"
      ]
     },
     "execution_count": 23,
     "metadata": {},
     "output_type": "execute_result"
    }
   ],
   "source": [
    "cnt = Counter([1, 1, 2, 1, 3])\n",
    "cnt"
   ]
  },
  {
   "cell_type": "code",
   "execution_count": 24,
   "metadata": {
    "collapsed": false
   },
   "outputs": [
    {
     "data": {
      "text/plain": [
       "Counter({0: 1, 1: 3, 2: 1, 3: 1})"
      ]
     },
     "execution_count": 24,
     "metadata": {},
     "output_type": "execute_result"
    }
   ],
   "source": [
    "cnt[0] += 1  # Нет ошибки !!!\n",
    "cnt"
   ]
  },
  {
   "cell_type": "code",
   "execution_count": 29,
   "metadata": {
    "collapsed": false
   },
   "outputs": [
    {
     "data": {
      "text/plain": [
       "[(1, 3), (0, 1), (2, 1), (3, 1)]"
      ]
     },
     "execution_count": 29,
     "metadata": {},
     "output_type": "execute_result"
    }
   ],
   "source": [
    "cnt.most_common()"
   ]
  },
  {
   "cell_type": "code",
   "execution_count": 159,
   "metadata": {
    "collapsed": false
   },
   "outputs": [
    {
     "name": "stdout",
     "output_type": "stream",
     "text": [
      "Counter({'foo': 6, 'bar': 1})\n",
      "Counter({'foo': 2})\n",
      "Counter({'foo': 2})\n",
      "Counter({'foo': 4, 'bar': 2})\n"
     ]
    }
   ],
   "source": [
    "c1 = Counter(foo=4, bar=-1) \n",
    "c2 = Counter(foo=2, bar=2)\n",
    "print c1 + c2 # c1[k] + c2[k]\n",
    "print c1 - c2 # c1[k] - c2[k]\n",
    "print c1 & c2 # min(c1[k], c2[k])\n",
    "print c1 | c2 # max(c1[k], c2[k])"
   ]
  },
  {
   "cell_type": "code",
   "execution_count": null,
   "metadata": {
    "collapsed": true
   },
   "outputs": [],
   "source": []
  },
  {
   "cell_type": "markdown",
   "metadata": {},
   "source": [
    "# Упаковка и распаковка"
   ]
  },
  {
   "cell_type": "code",
   "execution_count": 166,
   "metadata": {
    "collapsed": false
   },
   "outputs": [],
   "source": [
    "def _max(x, y):\n",
    "    if x > y:\n",
    "        return x\n",
    "    return y"
   ]
  },
  {
   "cell_type": "code",
   "execution_count": 167,
   "metadata": {
    "collapsed": false
   },
   "outputs": [
    {
     "data": {
      "text/plain": [
       "(3, 3)"
      ]
     },
     "execution_count": 167,
     "metadata": {},
     "output_type": "execute_result"
    }
   ],
   "source": [
    "_max(2, 3), _max(3, 2)"
   ]
  },
  {
   "cell_type": "code",
   "execution_count": 47,
   "metadata": {
    "collapsed": false
   },
   "outputs": [],
   "source": [
    "def _max(a, *args, **kwargs):\n",
    "    print 'args:', args, type(args)\n",
    "    max_x = float('-inf')\n",
    "    for x in args:\n",
    "        if x > max_x:\n",
    "            max_x = x\n",
    "    return max_x"
   ]
  },
  {
   "cell_type": "code",
   "execution_count": 33,
   "metadata": {
    "collapsed": false
   },
   "outputs": [
    {
     "name": "stdout",
     "output_type": "stream",
     "text": [
      "args: ('a', 'b') <type 'tuple'>\n"
     ]
    },
    {
     "data": {
      "text/plain": [
       "'b'"
      ]
     },
     "execution_count": 33,
     "metadata": {},
     "output_type": "execute_result"
    }
   ],
   "source": [
    "lst = [3, 1, 100, -2]\n",
    "ss = {'a': 1, 'b': 2}\n",
    "_max(*ss)"
   ]
  },
  {
   "cell_type": "code",
   "execution_count": 39,
   "metadata": {
    "collapsed": true
   },
   "outputs": [],
   "source": [
    "def return_x(**kwargs):\n",
    "    print 'kwargs:', kwargs\n",
    "    return kwargs.get('x')"
   ]
  },
  {
   "cell_type": "code",
   "execution_count": 40,
   "metadata": {
    "collapsed": false
   },
   "outputs": [
    {
     "name": "stdout",
     "output_type": "stream",
     "text": [
      "kwargs: ({'y': 50, 'x': 100},)\n"
     ]
    },
    {
     "ename": "AttributeError",
     "evalue": "'tuple' object has no attribute 'get'",
     "output_type": "error",
     "traceback": [
      "\u001b[0;31m---------------------------------------------------------------------------\u001b[0m",
      "\u001b[0;31mAttributeError\u001b[0m                            Traceback (most recent call last)",
      "\u001b[0;32m<ipython-input-40-280666a08ce1>\u001b[0m in \u001b[0;36m<module>\u001b[0;34m()\u001b[0m\n\u001b[0;32m----> 1\u001b[0;31m \u001b[0mreturn_x\u001b[0m\u001b[0;34m(\u001b[0m\u001b[0;34m{\u001b[0m\u001b[0;34m'x'\u001b[0m\u001b[0;34m:\u001b[0m \u001b[0;36m100\u001b[0m\u001b[0;34m,\u001b[0m \u001b[0;34m'y'\u001b[0m\u001b[0;34m:\u001b[0m \u001b[0;36m50\u001b[0m\u001b[0;34m}\u001b[0m\u001b[0;34m)\u001b[0m\u001b[0;34m\u001b[0m\u001b[0m\n\u001b[0m",
      "\u001b[0;32m<ipython-input-39-794219f31eaa>\u001b[0m in \u001b[0;36mreturn_x\u001b[0;34m(*kwargs)\u001b[0m\n\u001b[1;32m      1\u001b[0m \u001b[0;32mdef\u001b[0m \u001b[0mreturn_x\u001b[0m\u001b[0;34m(\u001b[0m\u001b[0;34m*\u001b[0m\u001b[0mkwargs\u001b[0m\u001b[0;34m)\u001b[0m\u001b[0;34m:\u001b[0m\u001b[0;34m\u001b[0m\u001b[0m\n\u001b[1;32m      2\u001b[0m     \u001b[0;32mprint\u001b[0m \u001b[0;34m'kwargs:'\u001b[0m\u001b[0;34m,\u001b[0m \u001b[0mkwargs\u001b[0m\u001b[0;34m\u001b[0m\u001b[0m\n\u001b[0;32m----> 3\u001b[0;31m     \u001b[0;32mreturn\u001b[0m \u001b[0mkwargs\u001b[0m\u001b[0;34m.\u001b[0m\u001b[0mget\u001b[0m\u001b[0;34m(\u001b[0m\u001b[0;34m'x'\u001b[0m\u001b[0;34m)\u001b[0m\u001b[0;34m\u001b[0m\u001b[0m\n\u001b[0m",
      "\u001b[0;31mAttributeError\u001b[0m: 'tuple' object has no attribute 'get'"
     ]
    }
   ],
   "source": [
    "return_x({'x': 100, 'y': 50})"
   ]
  },
  {
   "cell_type": "code",
   "execution_count": 41,
   "metadata": {
    "collapsed": false
   },
   "outputs": [
    {
     "ename": "TypeError",
     "evalue": "return_x() got an unexpected keyword argument 'y'",
     "output_type": "error",
     "traceback": [
      "\u001b[0;31m---------------------------------------------------------------------------\u001b[0m",
      "\u001b[0;31mTypeError\u001b[0m                                 Traceback (most recent call last)",
      "\u001b[0;32m<ipython-input-41-5f6adfe9b14e>\u001b[0m in \u001b[0;36m<module>\u001b[0;34m()\u001b[0m\n\u001b[0;32m----> 1\u001b[0;31m \u001b[0mreturn_x\u001b[0m\u001b[0;34m(\u001b[0m\u001b[0;34m**\u001b[0m\u001b[0;34m{\u001b[0m\u001b[0;34m'x'\u001b[0m\u001b[0;34m:\u001b[0m \u001b[0;36m100\u001b[0m\u001b[0;34m,\u001b[0m \u001b[0;34m'y'\u001b[0m\u001b[0;34m:\u001b[0m \u001b[0;36m50\u001b[0m\u001b[0;34m}\u001b[0m\u001b[0;34m)\u001b[0m\u001b[0;34m\u001b[0m\u001b[0m\n\u001b[0m",
      "\u001b[0;31mTypeError\u001b[0m: return_x() got an unexpected keyword argument 'y'"
     ]
    }
   ],
   "source": [
    "return_x(**{'x': 100, 'y': 50})"
   ]
  },
  {
   "cell_type": "code",
   "execution_count": null,
   "metadata": {
    "collapsed": true
   },
   "outputs": [],
   "source": []
  },
  {
   "cell_type": "markdown",
   "metadata": {},
   "source": [
    "# Itertools"
   ]
  },
  {
   "cell_type": "code",
   "execution_count": 210,
   "metadata": {
    "collapsed": false
   },
   "outputs": [
    {
     "name": "stdout",
     "output_type": "stream",
     "text": [
      "0\n",
      "1\n",
      "[2, 3, 4, 5, 6]\n"
     ]
    },
    {
     "ename": "StopIteration",
     "evalue": "",
     "output_type": "error",
     "traceback": [
      "\u001b[0;31m---------------------------------------------------------------------------\u001b[0m",
      "\u001b[0;31mStopIteration\u001b[0m                             Traceback (most recent call last)",
      "\u001b[0;32m<ipython-input-210-e535191d936c>\u001b[0m in \u001b[0;36m<module>\u001b[0;34m()\u001b[0m\n\u001b[1;32m      6\u001b[0m \u001b[0;34m\u001b[0m\u001b[0m\n\u001b[1;32m      7\u001b[0m \u001b[0;34m\u001b[0m\u001b[0m\n\u001b[0;32m----> 8\u001b[0;31m \u001b[0;32mprint\u001b[0m \u001b[0;34m(\u001b[0m\u001b[0mnext\u001b[0m\u001b[0;34m(\u001b[0m\u001b[0mit\u001b[0m\u001b[0;34m)\u001b[0m\u001b[0;34m)\u001b[0m\u001b[0;34m\u001b[0m\u001b[0m\n\u001b[0m",
      "\u001b[0;31mStopIteration\u001b[0m: "
     ]
    }
   ],
   "source": [
    "it = iter(xrange(7))\n",
    "\n",
    "print (next(it))\n",
    "print (next(it))\n",
    "print ([x for x in it])\n",
    "\n",
    " \n",
    "print (next(it))"
   ]
  },
  {
   "cell_type": "code",
   "execution_count": 226,
   "metadata": {
    "collapsed": false
   },
   "outputs": [
    {
     "ename": "TypeError",
     "evalue": "unsupported operand type(s) for +: 'listiterator' and 'listiterator'",
     "output_type": "error",
     "traceback": [
      "\u001b[0;31m---------------------------------------------------------------------------\u001b[0m",
      "\u001b[0;31mTypeError\u001b[0m                                 Traceback (most recent call last)",
      "\u001b[0;32m<ipython-input-226-8a35f6a4d6e9>\u001b[0m in \u001b[0;36m<module>\u001b[0;34m()\u001b[0m\n\u001b[1;32m      1\u001b[0m \u001b[0ma\u001b[0m \u001b[0;34m=\u001b[0m \u001b[0miter\u001b[0m\u001b[0;34m(\u001b[0m\u001b[0;34m[\u001b[0m\u001b[0;36m1\u001b[0m\u001b[0;34m,\u001b[0m \u001b[0;36m2\u001b[0m\u001b[0;34m,\u001b[0m \u001b[0;36m3\u001b[0m\u001b[0;34m]\u001b[0m\u001b[0;34m)\u001b[0m\u001b[0;34m\u001b[0m\u001b[0m\n\u001b[1;32m      2\u001b[0m \u001b[0mb\u001b[0m \u001b[0;34m=\u001b[0m \u001b[0miter\u001b[0m\u001b[0;34m(\u001b[0m\u001b[0;34m[\u001b[0m\u001b[0;36m4\u001b[0m\u001b[0;34m,\u001b[0m \u001b[0;36m5\u001b[0m\u001b[0;34m]\u001b[0m\u001b[0;34m)\u001b[0m\u001b[0;34m\u001b[0m\u001b[0m\n\u001b[0;32m----> 3\u001b[0;31m \u001b[0ma\u001b[0m \u001b[0;34m+\u001b[0m \u001b[0mb\u001b[0m\u001b[0;34m\u001b[0m\u001b[0m\n\u001b[0m",
      "\u001b[0;31mTypeError\u001b[0m: unsupported operand type(s) for +: 'listiterator' and 'listiterator'"
     ]
    }
   ],
   "source": [
    "a = iter([1, 2, 3])\n",
    "b = iter([4, 5])\n",
    "a + b"
   ]
  },
  {
   "cell_type": "code",
   "execution_count": 227,
   "metadata": {
    "collapsed": false
   },
   "outputs": [
    {
     "name": "stdout",
     "output_type": "stream",
     "text": [
      "1\n",
      "2\n",
      "3\n",
      "4\n",
      "5\n"
     ]
    }
   ],
   "source": [
    "# Объединение итераторов\n",
    "from itertools import chain\n",
    "for x in chain(a, b):\n",
    "    print x"
   ]
  },
  {
   "cell_type": "code",
   "execution_count": 228,
   "metadata": {
    "collapsed": false
   },
   "outputs": [
    {
     "data": {
      "text/plain": [
       "([], [])"
      ]
     },
     "execution_count": 228,
     "metadata": {},
     "output_type": "execute_result"
    }
   ],
   "source": [
    "list(a), list(b)"
   ]
  },
  {
   "cell_type": "code",
   "execution_count": 230,
   "metadata": {
    "collapsed": false
   },
   "outputs": [
    {
     "name": "stdout",
     "output_type": "stream",
     "text": [
      "2\n",
      "3\n"
     ]
    }
   ],
   "source": [
    "# Срезы\n",
    "from itertools import islice\n",
    "a = iter([1, 2, 3])\n",
    "b = iter([4, 5])\n",
    "\n",
    "for x in islice(a, 1, 3):\n",
    "    print x"
   ]
  },
  {
   "cell_type": "code",
   "execution_count": 241,
   "metadata": {
    "collapsed": false
   },
   "outputs": [
    {
     "name": "stdout",
     "output_type": "stream",
     "text": [
      "[('A', 'B'), ('B', 'A')]\n"
     ]
    }
   ],
   "source": [
    "# перестановки\n",
    "from itertools import permutations\n",
    "print list(permutations('AB'))"
   ]
  },
  {
   "cell_type": "code",
   "execution_count": 242,
   "metadata": {
    "collapsed": false
   },
   "outputs": [
    {
     "data": {
      "text/plain": [
       "[('A', 'B'), ('A', 'C'), ('B', 'C')]"
      ]
     },
     "execution_count": 242,
     "metadata": {},
     "output_type": "execute_result"
    }
   ],
   "source": [
    "# сочетания без повторений\n",
    "from itertools import combinations\n",
    "list(combinations('ABC', 2))"
   ]
  },
  {
   "cell_type": "code",
   "execution_count": 240,
   "metadata": {
    "collapsed": false
   },
   "outputs": [
    {
     "data": {
      "text/plain": [
       "[('A', 'A'), ('A', 'B'), ('A', 'C'), ('B', 'B'), ('B', 'C'), ('C', 'C')]"
      ]
     },
     "execution_count": 240,
     "metadata": {},
     "output_type": "execute_result"
    }
   ],
   "source": [
    "# сочетания c повторениями\n",
    "from itertools import combinations_with_replacement\n",
    "list(combinations_with_replacement('ABC', 2))"
   ]
  },
  {
   "cell_type": "code",
   "execution_count": 238,
   "metadata": {
    "collapsed": false
   },
   "outputs": [
    {
     "name": "stdout",
     "output_type": "stream",
     "text": [
      "(1, 3, 5)\n",
      "(1, 3, 6)\n",
      "(1, 4, 5)\n",
      "(1, 4, 6)\n",
      "(2, 3, 5)\n",
      "(2, 3, 6)\n",
      "(2, 4, 5)\n",
      "(2, 4, 6)\n"
     ]
    }
   ],
   "source": [
    "# декартово произведение\n",
    "from itertools import product\n",
    "\n",
    "# Например, когда не знаешь глубину вложенного цикла\n",
    "n = 3\n",
    "cycles = [\n",
    "    [1, 2],\n",
    "    [3, 4],\n",
    "    [5, 6]\n",
    "]\n",
    "for indecies in product(*cycles):\n",
    "    print indecies"
   ]
  },
  {
   "cell_type": "code",
   "execution_count": 55,
   "metadata": {
    "collapsed": false
   },
   "outputs": [
    {
     "name": "stdout",
     "output_type": "stream",
     "text": [
      "0 0 0\n",
      "0 0 1\n",
      "0 1 0\n",
      "0 1 1\n",
      "0 2 0\n",
      "0 2 1\n",
      "0 3 0\n",
      "0 3 1\n",
      "1 0 0\n",
      "1 0 1\n",
      "1 1 0\n",
      "1 1 1\n",
      "1 2 0\n",
      "1 2 1\n",
      "1 3 0\n",
      "1 3 1\n",
      "2 0 0\n",
      "2 0 1\n",
      "2 1 0\n",
      "2 1 1\n",
      "2 2 0\n",
      "2 2 1\n",
      "2 3 0\n",
      "2 3 1\n"
     ]
    }
   ],
   "source": [
    "# декартово произведение\n",
    "from itertools import product\n",
    "\n",
    "# Например, когда не знаешь глубину вложенного цикла\n",
    "n = 3\n",
    "cycles = [\n",
    "    xrange(3),\n",
    "    xrange(4),\n",
    "    xrange(2)\n",
    "]\n",
    "for i, j, k in product(*cycles):\n",
    "    print i, j, k"
   ]
  },
  {
   "cell_type": "code",
   "execution_count": null,
   "metadata": {
    "collapsed": true
   },
   "outputs": [],
   "source": []
  },
  {
   "cell_type": "markdown",
   "metadata": {},
   "source": [
    "### GroupBy"
   ]
  },
  {
   "cell_type": "code",
   "execution_count": 86,
   "metadata": {
    "collapsed": false
   },
   "outputs": [
    {
     "name": "stdout",
     "output_type": "stream",
     "text": [
      "\n"
     ]
    }
   ],
   "source": [
    "# данные key - value\n",
    "from itertools import groupby\n",
    "data = [\n",
    "    ('Factory A', 'day 1', 100),\n",
    "    ('Factory B', 'day 1', 200),\n",
    "    ('Factory C', 'day 1', 300),\n",
    "    \n",
    "    ('Factory A', 'day 2', 175),\n",
    "    ('Factory B', 'day 2', 115),\n",
    "    ('Factory C', 'day 2', 100),\n",
    "    \n",
    "    ('Factory A', 'day 3', 500),\n",
    "    ('Factory B', 'day 3', 800),\n",
    "    ('Factory C', 'day 3', 1000)\n",
    "]"
   ]
  },
  {
   "cell_type": "code",
   "execution_count": 87,
   "metadata": {
    "collapsed": false
   },
   "outputs": [
    {
     "name": "stdout",
     "output_type": "stream",
     "text": [
      "day 1 <itertools._grouper object at 0x112159690>\n",
      "day 2 <itertools._grouper object at 0x112159750>\n",
      "day 3 <itertools._grouper object at 0x1121597d0>\n"
     ]
    }
   ],
   "source": [
    "# Сколько товара все фабрики произвели за каждый день\n",
    "for (key, values) in groupby(data, lambda x: x[1]):\n",
    "    print key, values"
   ]
  },
  {
   "cell_type": "code",
   "execution_count": 88,
   "metadata": {
    "collapsed": false
   },
   "outputs": [
    {
     "name": "stdout",
     "output_type": "stream",
     "text": [
      "day 1 600\n",
      "day 2 390\n",
      "day 3 2300\n"
     ]
    }
   ],
   "source": [
    "for (key, values) in groupby(data, lambda x: x[1]):\n",
    "    s = 0\n",
    "    for v in values:\n",
    "        s += v[2]\n",
    "    print key, s"
   ]
  },
  {
   "cell_type": "code",
   "execution_count": 89,
   "metadata": {
    "collapsed": false
   },
   "outputs": [
    {
     "name": "stdout",
     "output_type": "stream",
     "text": [
      "day 1 600\n",
      "day 2 390\n",
      "day 3 2300\n"
     ]
    }
   ],
   "source": [
    "for (key, values) in groupby(data, lambda x: x[1]):\n",
    "    print key, sum(v[2] for v in values)"
   ]
  },
  {
   "cell_type": "code",
   "execution_count": 90,
   "metadata": {
    "collapsed": false
   },
   "outputs": [
    {
     "name": "stdout",
     "output_type": "stream",
     "text": [
      "Factory A 100\n",
      "Factory B 200\n",
      "Factory C 300\n",
      "Factory A 175\n",
      "Factory B 115\n",
      "Factory C 100\n",
      "Factory A 500\n",
      "Factory B 800\n",
      "Factory C 1000\n"
     ]
    }
   ],
   "source": [
    "# Сколько каждая фабрика произвела за все дни\n",
    "for (key, values) in groupby(data, lambda x: x[0]):\n",
    "    print key, sum([v[2] for v in values])"
   ]
  },
  {
   "cell_type": "code",
   "execution_count": 91,
   "metadata": {
    "collapsed": true
   },
   "outputs": [],
   "source": [
    "data = sorted(data)"
   ]
  },
  {
   "cell_type": "code",
   "execution_count": 92,
   "metadata": {
    "collapsed": false
   },
   "outputs": [
    {
     "data": {
      "text/plain": [
       "[('Factory A', 'day 1', 100),\n",
       " ('Factory A', 'day 2', 175),\n",
       " ('Factory A', 'day 3', 500),\n",
       " ('Factory B', 'day 1', 200),\n",
       " ('Factory B', 'day 2', 115),\n",
       " ('Factory B', 'day 3', 800),\n",
       " ('Factory C', 'day 1', 300),\n",
       " ('Factory C', 'day 2', 100),\n",
       " ('Factory C', 'day 3', 1000)]"
      ]
     },
     "execution_count": 92,
     "metadata": {},
     "output_type": "execute_result"
    }
   ],
   "source": [
    "data"
   ]
  },
  {
   "cell_type": "code",
   "execution_count": 100,
   "metadata": {
    "collapsed": false
   },
   "outputs": [
    {
     "name": "stdout",
     "output_type": "stream",
     "text": [
      " Factory A 258.333333333\n",
      "Factory B 371.666666667\n",
      "Factory C 466.666666667\n"
     ]
    }
   ],
   "source": [
    "for (key, values) in groupby(data, lambda x: x[0]):\n",
    "    print key, np.mean([v[2] for v in values])"
   ]
  },
  {
   "cell_type": "markdown",
   "metadata": {},
   "source": [
    "# Задания"
   ]
  },
  {
   "cell_type": "raw",
   "metadata": {},
   "source": [
    "GroupBy\n",
    "0. Загрузите titanic dataset\n",
    "1. Выясните среднюю стоимость (Fare) для каждого из классов (с помощью groupby в pandas)\n",
    "2. Сделайте тоже самое, но уже с помощью groupby из itertools\n",
    "\n",
    "Permutations\n",
    "4. Посчитайте число перестановок из n элементов (n=2..7), в которых ни один элемент не находится на своем изначальном месте. \n",
    "\n",
    "Collections\n",
    "5. Посчитайте частоты триграмм в тексте. \n",
    "В качестве текста возьмем имена и фамилии из titanic dataset (text = ' '.join(data.Name.str.lower().values)). "
   ]
  },
  {
   "cell_type": "code",
   "execution_count": 67,
   "metadata": {
    "collapsed": false
   },
   "outputs": [],
   "source": [
    "import pandas as pd\n",
    "import numpy as np"
   ]
  },
  {
   "cell_type": "code",
   "execution_count": 102,
   "metadata": {
    "collapsed": true
   },
   "outputs": [],
   "source": [
    "data = pd.read_csv('titanic.csv')"
   ]
  },
  {
   "cell_type": "code",
   "execution_count": null,
   "metadata": {
    "collapsed": true
   },
   "outputs": [],
   "source": []
  },
  {
   "cell_type": "code",
   "execution_count": 110,
   "metadata": {
    "collapsed": true
   },
   "outputs": [],
   "source": [
    "agg_funcs = {\n",
    "    'Age': [np.mean, 'max', 'std', 'count'],\n",
    "    'Sex': ['nunique', 'count'],\n",
    "    'Survived': 'mean'\n",
    "}"
   ]
  },
  {
   "cell_type": "code",
   "execution_count": 113,
   "metadata": {
    "collapsed": false
   },
   "outputs": [
    {
     "data": {
      "text/html": [
       "<div>\n",
       "<table border=\"1\" class=\"dataframe\">\n",
       "  <thead>\n",
       "    <tr>\n",
       "      <th></th>\n",
       "      <th></th>\n",
       "      <th colspan=\"4\" halign=\"left\">Age</th>\n",
       "      <th>Survived</th>\n",
       "      <th colspan=\"2\" halign=\"left\">Sex</th>\n",
       "    </tr>\n",
       "    <tr>\n",
       "      <th></th>\n",
       "      <th></th>\n",
       "      <th>mean</th>\n",
       "      <th>max</th>\n",
       "      <th>std</th>\n",
       "      <th>count</th>\n",
       "      <th>mean</th>\n",
       "      <th>nunique</th>\n",
       "      <th>count</th>\n",
       "    </tr>\n",
       "    <tr>\n",
       "      <th>Pclass</th>\n",
       "      <th>Embarked</th>\n",
       "      <th></th>\n",
       "      <th></th>\n",
       "      <th></th>\n",
       "      <th></th>\n",
       "      <th></th>\n",
       "      <th></th>\n",
       "      <th></th>\n",
       "    </tr>\n",
       "  </thead>\n",
       "  <tbody>\n",
       "    <tr>\n",
       "      <th rowspan=\"3\" valign=\"top\">1</th>\n",
       "      <th>C</th>\n",
       "      <td>38.027027</td>\n",
       "      <td>71.0</td>\n",
       "      <td>14.243454</td>\n",
       "      <td>74</td>\n",
       "      <td>0.694118</td>\n",
       "      <td>2</td>\n",
       "      <td>85</td>\n",
       "    </tr>\n",
       "    <tr>\n",
       "      <th>Q</th>\n",
       "      <td>38.500000</td>\n",
       "      <td>44.0</td>\n",
       "      <td>7.778175</td>\n",
       "      <td>2</td>\n",
       "      <td>0.500000</td>\n",
       "      <td>2</td>\n",
       "      <td>2</td>\n",
       "    </tr>\n",
       "    <tr>\n",
       "      <th>S</th>\n",
       "      <td>38.152037</td>\n",
       "      <td>80.0</td>\n",
       "      <td>15.315584</td>\n",
       "      <td>108</td>\n",
       "      <td>0.582677</td>\n",
       "      <td>2</td>\n",
       "      <td>127</td>\n",
       "    </tr>\n",
       "    <tr>\n",
       "      <th rowspan=\"3\" valign=\"top\">2</th>\n",
       "      <th>C</th>\n",
       "      <td>22.766667</td>\n",
       "      <td>36.0</td>\n",
       "      <td>10.192551</td>\n",
       "      <td>15</td>\n",
       "      <td>0.529412</td>\n",
       "      <td>2</td>\n",
       "      <td>17</td>\n",
       "    </tr>\n",
       "    <tr>\n",
       "      <th>Q</th>\n",
       "      <td>43.500000</td>\n",
       "      <td>57.0</td>\n",
       "      <td>19.091883</td>\n",
       "      <td>2</td>\n",
       "      <td>0.666667</td>\n",
       "      <td>2</td>\n",
       "      <td>3</td>\n",
       "    </tr>\n",
       "    <tr>\n",
       "      <th>S</th>\n",
       "      <td>30.386731</td>\n",
       "      <td>70.0</td>\n",
       "      <td>14.080001</td>\n",
       "      <td>156</td>\n",
       "      <td>0.463415</td>\n",
       "      <td>2</td>\n",
       "      <td>164</td>\n",
       "    </tr>\n",
       "    <tr>\n",
       "      <th rowspan=\"3\" valign=\"top\">3</th>\n",
       "      <th>C</th>\n",
       "      <td>20.741951</td>\n",
       "      <td>45.5</td>\n",
       "      <td>11.712367</td>\n",
       "      <td>41</td>\n",
       "      <td>0.378788</td>\n",
       "      <td>2</td>\n",
       "      <td>66</td>\n",
       "    </tr>\n",
       "    <tr>\n",
       "      <th>Q</th>\n",
       "      <td>25.937500</td>\n",
       "      <td>70.5</td>\n",
       "      <td>16.807938</td>\n",
       "      <td>24</td>\n",
       "      <td>0.375000</td>\n",
       "      <td>2</td>\n",
       "      <td>72</td>\n",
       "    </tr>\n",
       "    <tr>\n",
       "      <th>S</th>\n",
       "      <td>25.696552</td>\n",
       "      <td>74.0</td>\n",
       "      <td>12.110906</td>\n",
       "      <td>290</td>\n",
       "      <td>0.189802</td>\n",
       "      <td>2</td>\n",
       "      <td>353</td>\n",
       "    </tr>\n",
       "  </tbody>\n",
       "</table>\n",
       "</div>"
      ],
      "text/plain": [
       "                       Age                         Survived     Sex      \n",
       "                      mean   max        std count      mean nunique count\n",
       "Pclass Embarked                                                          \n",
       "1      C         38.027027  71.0  14.243454    74  0.694118       2    85\n",
       "       Q         38.500000  44.0   7.778175     2  0.500000       2     2\n",
       "       S         38.152037  80.0  15.315584   108  0.582677       2   127\n",
       "2      C         22.766667  36.0  10.192551    15  0.529412       2    17\n",
       "       Q         43.500000  57.0  19.091883     2  0.666667       2     3\n",
       "       S         30.386731  70.0  14.080001   156  0.463415       2   164\n",
       "3      C         20.741951  45.5  11.712367    41  0.378788       2    66\n",
       "       Q         25.937500  70.5  16.807938    24  0.375000       2    72\n",
       "       S         25.696552  74.0  12.110906   290  0.189802       2   353"
      ]
     },
     "execution_count": 113,
     "metadata": {},
     "output_type": "execute_result"
    }
   ],
   "source": [
    "data.groupby(['Pclass', 'Embarked']).agg(agg_funcs)"
   ]
  },
  {
   "cell_type": "code",
   "execution_count": 120,
   "metadata": {
    "collapsed": true
   },
   "outputs": [],
   "source": [
    "from collections import defaultdict, Counter"
   ]
  },
  {
   "cell_type": "code",
   "execution_count": 126,
   "metadata": {
    "collapsed": false
   },
   "outputs": [],
   "source": [
    "d = defaultdict(list)"
   ]
  },
  {
   "cell_type": "code",
   "execution_count": 128,
   "metadata": {
    "collapsed": false
   },
   "outputs": [],
   "source": [
    "d[0].append(2)"
   ]
  },
  {
   "cell_type": "code",
   "execution_count": 129,
   "metadata": {
    "collapsed": false
   },
   "outputs": [
    {
     "data": {
      "text/plain": [
       "defaultdict(list, {0: [2]})"
      ]
     },
     "execution_count": 129,
     "metadata": {},
     "output_type": "execute_result"
    }
   ],
   "source": [
    "d"
   ]
  },
  {
   "cell_type": "code",
   "execution_count": 105,
   "metadata": {
    "collapsed": false
   },
   "outputs": [
    {
     "data": {
      "text/plain": [
       "Pclass\n",
       "1    38.233441\n",
       "2    29.877630\n",
       "3    25.140620\n",
       "Name: Age, dtype: float64"
      ]
     },
     "execution_count": 105,
     "metadata": {},
     "output_type": "execute_result"
    }
   ],
   "source": [
    "data.groupby('Pclass')['Age'].mean()"
   ]
  },
  {
   "cell_type": "code",
   "execution_count": 106,
   "metadata": {
    "collapsed": false
   },
   "outputs": [],
   "source": [
    "b = data.sort_values(by='Age').values"
   ]
  },
  {
   "cell_type": "code",
   "execution_count": 107,
   "metadata": {
    "collapsed": false
   },
   "outputs": [],
   "source": [
    "a = sorted(data.values, key=lambda x: x[5])"
   ]
  },
  {
   "cell_type": "code",
   "execution_count": 108,
   "metadata": {
    "collapsed": true
   },
   "outputs": [],
   "source": [
    "data_np = data.values"
   ]
  },
  {
   "cell_type": "code",
   "execution_count": 109,
   "metadata": {
    "collapsed": false
   },
   "outputs": [],
   "source": [
    "c = data_np[data_np[:, 5].argsort()]"
   ]
  },
  {
   "cell_type": "code",
   "execution_count": null,
   "metadata": {
    "collapsed": true
   },
   "outputs": [],
   "source": []
  },
  {
   "cell_type": "code",
   "execution_count": 131,
   "metadata": {
    "collapsed": true
   },
   "outputs": [],
   "source": [
    "from itertools import permutations"
   ]
  },
  {
   "cell_type": "code",
   "execution_count": 152,
   "metadata": {
    "collapsed": false
   },
   "outputs": [
    {
     "name": "stdout",
     "output_type": "stream",
     "text": [
      "2 [(1, 0)]\n",
      "3 [(1, 2, 0), (2, 0, 1)]\n",
      "4 [(1, 0, 3, 2), (1, 2, 3, 0), (1, 3, 0, 2), (2, 0, 3, 1), (2, 3, 0, 1), (2, 3, 1, 0), (3, 0, 1, 2), (3, 2, 0, 1), (3, 2, 1, 0)]\n"
     ]
    }
   ],
   "source": [
    "for n in xrange(2, 5):\n",
    "    s = 0\n",
    "    good_perms = []\n",
    "    for perm in permutations(xrange(n)):\n",
    "        if all([i != v for i, v in enumerate(perm)]):\n",
    "            good_perms.append(perm)\n",
    "        \n",
    "    print n, good_perms"
   ]
  },
  {
   "cell_type": "code",
   "execution_count": 138,
   "metadata": {
    "collapsed": true
   },
   "outputs": [],
   "source": [
    "text = ' '.join(data.Name.str.lower().values)"
   ]
  },
  {
   "cell_type": "code",
   "execution_count": 145,
   "metadata": {
    "collapsed": false
   },
   "outputs": [
    {
     "data": {
      "text/plain": [
       "'braund, mr. owen harris cumings, mrs. john bradley (florence briggs thayer) heikkinen, miss. laina futrelle, mrs. jacques heath (lily may peel) allen, mr. william henry moran, mr. james mccarthy, mr. timothy j palsson, master. gosta leonard johnson, mrs. oscar w (elisabeth vilhelmina berg) nasser, mrs. nicholas (adele achem) sandstrom, miss. marguerite rut bonnell, miss. elizabeth saundercock, mr. william henry andersson, mr. anders johan vestrom, miss. hulda amanda adolfina hewlett, mrs. (mary d kingcome)  rice, master. eugene williams, mr. charles eugene vander planke, mrs. julius (emelia maria vandemoortele) masselmani, mrs. fatima fynney, mr. joseph j beesley, mr. lawrence mcgowan, miss. anna \"annie\" sloper, mr. william thompson palsson, miss. torborg danira asplund, mrs. carl oscar (selma augusta emilia johansson) emir, mr. farred chehab fortune, mr. charles alexander o\\'dwyer, miss. ellen \"nellie\" todoroff, mr. lalio uruchurtu, don. manuel e spencer, mrs. william augustus (marie eugenie) glynn, miss. mary agatha wheadon, mr. edward h meyer, mr. edgar joseph holverson, mr. alexander oskar mamee, mr. hanna cann, mr. ernest charles vander planke, miss. augusta maria nicola-yarred, miss. jamila ahlin, mrs. johan (johanna persdotter larsson) turpin, mrs. william john robert (dorothy ann wonnacott) kraeff, mr. theodor laroche, miss. simonne marie anne andree devaney, miss. margaret delia rogers, mr. william john lennon, mr. denis o\\'driscoll, miss. bridget samaan, mr. youssef arnold-franchi, mrs. josef (josefine franchi) panula, master. juha niilo nosworthy, mr. richard cater harper, mrs. henry sleeper (myna haxtun) faunthorpe, mrs. lizzie (elizabeth anne wilkinson) ostby, mr. engelhart cornelius woolner, mr. hugh rugg, miss. emily novel, mr. mansouer west, miss. constance mirium goodwin, master. william frederick sirayanian, mr. orsen icard, miss. amelie harris, mr. henry birkhardt skoog, master. harald stewart, mr. albert a moubarek, master. gerios nye, mrs. (elizabeth ramell) crease, mr. ernest james andersson, miss. erna alexandra kink, mr. vincenz jenkin, mr. stephen curnow goodwin, miss. lillian amy hood, mr. ambrose jr chronopoulos, mr. apostolos bing, mr. lee moen, mr. sigurd hansen staneff, mr. ivan moutal, mr. rahamin haim caldwell, master. alden gates dowdell, miss. elizabeth waelens, mr. achille sheerlinck, mr. jan baptist mcdermott, miss. brigdet delia carrau, mr. francisco m ilett, miss. bertha backstrom, mrs. karl alfred (maria mathilda gustafsson) ford, mr. william neal slocovski, mr. selman francis fortune, miss. mabel helen celotti, mr. francesco christmann, mr. emil andreasson, mr. paul edvin chaffee, mr. herbert fuller dean, mr. bertram frank coxon, mr. daniel shorney, mr. charles joseph goldschmidt, mr. george b greenfield, mr. william bertram doling, mrs. john t (ada julia bone) kantor, mr. sinai petranec, miss. matilda petroff, mr. pastcho (\"pentcho\") white, mr. richard frasar johansson, mr. gustaf joel gustafsson, mr. anders vilhelm mionoff, mr. stoytcho salkjelsvik, miss. anna kristine moss, mr. albert johan rekic, mr. tido moran, miss. bertha porter, mr. walter chamberlain zabour, miss. hileni barton, mr. david john jussila, miss. katriina attalah, miss. malake pekoniemi, mr. edvard connors, mr. patrick turpin, mr. william john robert baxter, mr. quigg edmond andersson, miss. ellis anna maria hickman, mr. stanley george moore, mr. leonard charles nasser, mr. nicholas webber, miss. susan white, mr. percival wayland nicola-yarred, master. elias mcmahon, mr. martin madsen, mr. fridtjof arne peter, miss. anna ekstrom, mr. johan drazenoic, mr. jozef coelho, mr. domingos fernandeo robins, mrs. alexander a (grace charity laury) weisz, mrs. leopold (mathilde francoise pede) sobey, mr. samuel james hayden richard, mr. emile newsom, miss. helen monypeny futrelle, mr. jacques heath osen, mr. olaf elon giglio, mr. victor boulos, mrs. joseph (sultana) nysten, miss. anna sofia hakkarainen, mrs. pekka pietari (elin matilda dolck) burke, mr. jeremiah andrew, mr. edgardo samuel nicholls, mr. joseph charles andersson, mr. august edvard (\"wennerstrom\") ford, miss. robina maggie \"ruby\" navratil, mr. michel (\"louis m hoffman\") byles, rev. thomas roussel davids bateman, rev. robert james pears, mrs. thomas (edith wearne) meo, mr. alfonzo van billiard, mr. austin blyler olsen, mr. ole martin williams, mr. charles duane gilnagh, miss. katherine \"katie\" corn, mr. harry smiljanic, mr. mile sage, master. thomas henry cribb, mr. john hatfield watt, mrs. james (elizabeth \"bessie\" inglis milne) bengtsson, mr. john viktor calic, mr. jovo panula, master. eino viljami goldsmith, master. frank john william \"frankie\" chibnall, mrs. (edith martha bowerman) skoog, mrs. william (anna bernhardina karlsson) baumann, mr. john d ling, mr. lee van der hoef, mr. wyckoff rice, master. arthur johnson, miss. eleanor ileen sivola, mr. antti wilhelm smith, mr. james clinch klasen, mr. klas albin lefebre, master. henry forbes isham, miss. ann elizabeth hale, mr. reginald leonard, mr. lionel sage, miss. constance gladys pernot, mr. rene asplund, master. clarence gustaf hugo becker, master. richard f kink-heilmann, miss. luise gretchen rood, mr. hugh roscoe o\\'brien, mrs. thomas (johanna \"hannah\" godfrey) romaine, mr. charles hallace (\"mr c rolmane\") bourke, mr. john turcin, mr. stjepan pinsky, mrs. (rosa) carbines, mr. william andersen-jensen, miss. carla christine nielsine navratil, master. michel m brown, mrs. james joseph (margaret tobin) lurette, miss. elise mernagh, mr. robert olsen, mr. karl siegwart andreas madigan, miss. margaret \"maggie\" yrois, miss. henriette (\"mrs harbeck\") vande walle, mr. nestor cyriel sage, mr. frederick johanson, mr. jakob alfred youseff, mr. gerious cohen, mr. gurshon \"gus\" strom, miss. telma matilda backstrom, mr. karl alfred albimona, mr. nassef cassem carr, miss. helen \"ellen\" blank, mr. henry ali, mr. ahmed cameron, miss. clear annie perkin, mr. john henry givard, mr. hans kristensen kiernan, mr. philip newell, miss. madeleine honkanen, miss. eliina jacobsohn, mr. sidney samuel bazzani, miss. albina harris, mr. walter sunderland, mr. victor francis bracken, mr. james h green, mr. george henry nenkoff, mr. christo hoyt, mr. frederick maxfield berglund, mr. karl ivar sven mellors, mr. william john lovell, mr. john hall (\"henry\") fahlstrom, mr. arne jonas lefebre, miss. mathilde harris, mrs. henry birkhardt (irene wallach) larsson, mr. bengt edvin sjostedt, mr. ernst adolf asplund, miss. lillian gertrud leyson, mr. robert william norman harknett, miss. alice phoebe hold, mr. stephen collyer, miss. marjorie \"lottie\" pengelly, mr. frederick william hunt, mr. george henry zabour, miss. thamine murphy, miss. katherine \"kate\" coleridge, mr. reginald charles maenpaa, mr. matti alexanteri attalah, mr. sleiman minahan, dr. william edward lindahl, miss. agda thorilda viktoria hamalainen, mrs. william (anna) beckwith, mr. richard leonard carter, rev. ernest courtenay reed, mr. james george strom, mrs. wilhelm (elna matilda persson) stead, mr. william thomas lobb, mr. william arthur rosblom, mrs. viktor (helena wilhelmina) touma, mrs. darwis (hanne youssef razi) thorne, mrs. gertrude maybelle cherry, miss. gladys ward, miss. anna parrish, mrs. (lutie davis) smith, mr. thomas asplund, master. edvin rojj felix taussig, mr. emil harrison, mr. william henry, miss. delia reeves, mr. david panula, mr. ernesti arvid persson, mr. ernst ulrik graham, mrs. william thompson (edith junkins) bissette, miss. amelia cairns, mr. alexander tornquist, mr. william henry mellinger, mrs. (elizabeth anne maidment) natsch, mr. charles h healy, miss. hanora \"nora\" andrews, miss. kornelia theodosia lindblom, miss. augusta charlotta parkes, mr. francis \"frank\" rice, master. eric abbott, mrs. stanton (rosa hunt) duane, mr. frank olsson, mr. nils johan goransson de pelsmaeker, mr. alfons dorking, mr. edward arthur smith, mr. richard william stankovic, mr. ivan de mulder, mr. theodore naidenoff, mr. penko hosono, mr. masabumi connolly, miss. kate barber, miss. ellen \"nellie\" bishop, mrs. dickinson h (helen walton) levy, mr. rene jacques haas, miss. aloisia mineff, mr. ivan lewy, mr. ervin g hanna, mr. mansour allison, miss. helen loraine saalfeld, mr. adolphe baxter, mrs. james (helene delaudeniere chaput) kelly, miss. anna katherine \"annie kate\" mccoy, mr. bernard johnson, mr. william cahoone jr keane, miss. nora a williams, mr. howard hugh \"harry\" allison, master. hudson trevor fleming, miss. margaret penasco y castellana, mrs. victor de satode (maria josefa perez de soto y vallejo) abelson, mr. samuel francatelli, miss. laura mabel hays, miss. margaret bechstein ryerson, miss. emily borie lahtinen, mrs. william (anna sylfven) hendekovic, mr. ignjac hart, mr. benjamin nilsson, miss. helmina josefina kantor, mrs. sinai (miriam sternin) moraweck, dr. ernest wick, miss. mary natalie spedden, mrs. frederic oakley (margaretta corning stone) dennis, mr. samuel danoff, mr. yoto slayter, miss. hilda mary caldwell, mrs. albert francis (sylvia mae harbaugh) sage, mr. george john jr young, miss. marie grice nysveen, mr. johan hansen ball, mrs. (ada e hall) goldsmith, mrs. frank john (emily alice brown) hippach, miss. jean gertrude mccoy, miss. agnes partner, mr. austen graham, mr. george edward vander planke, mr. leo edmondus frauenthal, mrs. henry william (clara heinsheimer) denkoff, mr. mitto pears, mr. thomas clinton burns, miss. elizabeth margaret dahl, mr. karl edwart blackwell, mr. stephen weart navratil, master. edmond roger fortune, miss. alice elizabeth collander, mr. erik gustaf sedgwick, mr. charles frederick waddington fox, mr. stanley hubert brown, miss. amelia \"mildred\" smith, miss. marion elsie davison, mrs. thomas henry (mary e finck) coutts, master. william loch \"william\" dimic, mr. jovan odahl, mr. nils martin williams-lambert, mr. fletcher fellows elias, mr. tannous arnold-franchi, mr. josef yousif, mr. wazli vanden steen, mr. leo peter bowerman, miss. elsie edith funk, miss. annie clemmer mcgovern, miss. mary mockler, miss. helen mary \"ellie\" skoog, mr. wilhelm del carlo, mr. sebastiano barbara, mrs. (catherine david) asim, mr. adola o\\'brien, mr. thomas adahl, mr. mauritz nils martin warren, mrs. frank manley (anna sophia atkinson) moussa, mrs. (mantoura boulos) jermyn, miss. annie aubart, mme. leontine pauline harder, mr. george achilles wiklund, mr. jakob alfred beavan, mr. william thomas ringhini, mr. sante palsson, miss. stina viola meyer, mrs. edgar joseph (leila saks) landergren, miss. aurora adelia widener, mr. harry elkins betros, mr. tannous gustafsson, mr. karl gideon bidois, miss. rosalie nakid, miss. maria (\"mary\") tikkanen, mr. juho holverson, mrs. alexander oskar (mary aline towner) plotcharsky, mr. vasil davies, mr. charles henry goodwin, master. sidney leonard buss, miss. kate sadlier, mr. matthew lehmann, miss. bertha carter, mr. william ernest jansson, mr. carl olof gustafsson, mr. johan birger newell, miss. marjorie sandstrom, mrs. hjalmar (agnes charlotta bengtsson) johansson, mr. erik olsson, miss. elina mckane, mr. peter david pain, dr. alfred trout, mrs. william h (jessie l) niskanen, mr. juha adams, mr. john jussila, miss. mari aina hakkarainen, mr. pekka pietari oreskovic, miss. marija gale, mr. shadrach widegren, mr. carl/charles peter richards, master. william rowe birkeland, mr. hans martin monsen lefebre, miss. ida sdycoff, mr. todor hart, mr. henry minahan, miss. daisy e cunningham, mr. alfred fleming sundman, mr. johan julian meek, mrs. thomas (annie louise rowley) drew, mrs. james vivian (lulu thorne christian) silven, miss. lyyli karoliina matthews, mr. william john van impe, miss. catharina gheorgheff, mr. stanio charters, mr. david zimmerman, mr. leo danbom, mrs. ernst gilbert (anna sigrid maria brogren) rosblom, mr. viktor richard wiseman, mr. phillippe clarke, mrs. charles v (ada maria winfield) phillips, miss. kate florence (\"mrs kate louise phillips marshall\") flynn, mr. james pickard, mr. berk (berk trembisky) bjornstrom-steffansson, mr. mauritz hakan thorneycroft, mrs. percival (florence kate white) louch, mrs. charles alexander (alice adelaide slow) kallio, mr. nikolai erland silvey, mr. william baird carter, miss. lucile polk ford, miss. doolina margaret \"daisy\" richards, mrs. sidney (emily hocking) fortune, mr. mark kvillner, mr. johan henrik johannesson hart, mrs. benjamin (esther ada bloomfield) hampe, mr. leon petterson, mr. johan emil reynaldo, ms. encarnacion johannesen-bratthammer, mr. bernt dodge, master. washington mellinger, miss. madeleine violet seward, mr. frederic kimber baclini, miss. marie catherine peuchen, major. arthur godfrey west, mr. edwy arthur hagland, mr. ingvald olai olsen foreman, mr. benjamin laventall goldenberg, mr. samuel l peduzzi, mr. joseph jalsevac, mr. ivan millet, mr. francis davis kenyon, mrs. frederick r (marion) toomey, miss. ellen o\\'connor, mr. maurice anderson, mr. harry morley, mr. william gee, mr. arthur h milling, mr. jacob christian maisner, mr. simon goncalves, mr. manuel estanslas campbell, mr. william smart, mr. john montgomery scanlan, mr. james baclini, miss. helene barbara keefe, mr. arthur cacic, mr. luka west, mrs. edwy arthur (ada mary worth) jerwan, mrs. amin s (marie marthe thuillard) strandberg, miss. ida sofia clifford, mr. george quincy renouf, mr. peter henry braund, mr. lewis richard karlsson, mr. nils august hirvonen, miss. hildur e goodwin, master. harold victor frost, mr. anthony wood \"archie\" rouse, mr. richard henry turkula, mrs. (hedwig) bishop, mr. dickinson h lefebre, miss. jeannie hoyt, mrs. frederick maxfield (jane anne forby) kent, mr. edward austin somerton, mr. francis william coutts, master. eden leslie \"neville\" hagland, mr. konrad mathias reiersen windelov, mr. einar molson, mr. harry markland artagaveytia, mr. ramon stanley, mr. edward roland yousseff, mr. gerious eustis, miss. elizabeth mussey shellard, mr. frederick william allison, mrs. hudson j c (bessie waldo daniels) svensson, mr. olof calic, mr. petar canavan, miss. mary o\\'sullivan, miss. bridget mary laitinen, miss. kristina sofia maioni, miss. roberta penasco y castellana, mr. victor de satode quick, mrs. frederick charles (jane richards) bradley, mr. george (\"george arthur brayton\") olsen, mr. henry margido lang, mr. fang daly, mr. eugene patrick webber, mr. james mcgough, mr. james robert rothschild, mrs. martin (elizabeth l. barrett) coleff, mr. satio walker, mr. william anderson lemore, mrs. (amelia milley) ryan, mr. patrick angle, mrs. william a (florence \"mary\" agnes hughes) pavlovic, mr. stefo perreault, miss. anne vovk, mr. janko lahoud, mr. sarkis hippach, mrs. louis albert (ida sophia fischer) kassem, mr. fared farrell, mr. james ridsdale, miss. lucy farthing, mr. john salonen, mr. johan werner hocking, mr. richard george quick, miss. phyllis may toufik, mr. nakli elias, mr. joseph jr peter, mrs. catherine (catherine rizk) cacic, miss. marija hart, miss. eva miriam butt, major. archibald willingham leroy, miss. bertha risien, mr. samuel beard frolicher, miss. hedwig margaritha crosby, miss. harriet r andersson, miss. ingeborg constanzia andersson, miss. sigrid elisabeth beane, mr. edward douglas, mr. walter donald nicholson, mr. arthur ernest beane, mrs. edward (ethel clarke) padro y manent, mr. julian goldsmith, mr. frank john davies, master. john morgan jr thayer, mr. john borland jr sharp, mr. percival james r o\\'brien, mr. timothy leeni, mr. fahim (\"philip zenni\") ohman, miss. velin wright, mr. george duff gordon, lady. (lucille christiana sutherland) (\"mrs morgan\") robbins, mr. victor taussig, mrs. emil (tillie mandelbaum) de messemaeker, mrs. guillaume joseph (emma) morrow, mr. thomas rowan sivic, mr. husein norman, mr. robert douglas simmons, mr. john meanwell, miss. (marion ogden) davies, mr. alfred j stoytcheff, mr. ilia palsson, mrs. nils (alma cornelia berglund) doharr, mr. tannous jonsson, mr. carl harris, mr. george appleton, mrs. edward dale (charlotte lamson) flynn, mr. john irwin (\"irving\") kelly, miss. mary rush, mr. alfred george john patchett, mr. george garside, miss. ethel silvey, mrs. william baird (alice munger) caram, mrs. joseph (maria elias) jussila, mr. eiriik christy, miss. julie rachel thayer, mrs. john borland (marian longstreth morris) downton, mr. william james ross, mr. john hugo paulner, mr. uscher taussig, miss. ruth jarvis, mr. john denzil frolicher-stehli, mr. maxmillian gilinski, mr. eliezer murdlin, mr. joseph rintamaki, mr. matti stephenson, mrs. walter bertram (martha eustis) elsbury, mr. william james bourke, miss. mary chapman, mr. john henry van impe, mr. jean baptiste leitch, miss. jessie wills johnson, mr. alfred boulos, mr. hanna duff gordon, sir. cosmo edmund (\"mr morgan\") jacobsohn, mrs. sidney samuel (amy frances christy) slabenoff, mr. petco harrington, mr. charles h torber, mr. ernst william homer, mr. harry (\"mr e haven\") lindell, mr. edvard bengtsson karaic, mr. milan daniel, mr. robert williams laroche, mrs. joseph (juliette marie louise lafargue) shutes, miss. elizabeth w andersson, mrs. anders johan (alfrida konstantia brogren) jardin, mr. jose neto murphy, miss. margaret jane horgan, mr. john brocklebank, mr. william alfred herman, miss. alice danbom, mr. ernst gilbert lobb, mrs. william arthur (cordelia k stanlick) becker, miss. marion louise gavey, mr. lawrence yasbeck, mr. antoni kimball, mr. edwin nelson jr nakid, mr. sahid hansen, mr. henry damsgaard bowen, mr. david john \"dai\" sutton, mr. frederick kirkland, rev. charles leonard longley, miss. gretchen fiske bostandyeff, mr. guentcho o\\'connell, mr. patrick d barkworth, mr. algernon henry wilson lundahl, mr. johan svensson stahelin-maeglin, dr. max parr, mr. william henry marsh skoog, miss. mabel davis, miss. mary leinonen, mr. antti gustaf collyer, mr. harvey panula, mrs. juha (maria emilia ojala) thorneycroft, mr. percival jensen, mr. hans peder sagesser, mlle. emma skoog, miss. margit elizabeth foo, mr. choong baclini, miss. eugenie harper, mr. henry sleeper cor, mr. liudevit simonius-blumer, col. oberst alfons willey, mr. edward stanley, miss. amy zillah elsie mitkoff, mr. mito doling, miss. elsie kalvik, mr. johannes halvorsen o\\'leary, miss. hanora \"norah\" hegarty, miss. hanora \"nora\" hickman, mr. leonard mark radeff, mr. alexander bourke, mrs. john (catherine) eitemiller, mr. george floyd newell, mr. arthur webster frauenthal, dr. henry william badt, mr. mohamed colley, mr. edward pomeroy coleff, mr. peju lindqvist, mr. eino william hickman, mr. lewis butler, mr. reginald fenton rommetvedt, mr. knud paust cook, mr. jacob taylor, mrs. elmer zebley (juliet cummins wright) brown, mrs. thomas william solomon (elizabeth catherine ford) davidson, mr. thornton mitchell, mr. henry michael wilhelms, mr. charles watson, mr. ennis hastings edvardsson, mr. gustaf hjalmar sawyer, mr. frederick charles turja, miss. anna sofia goodwin, mrs. frederick (augusta tyler) cardeza, mr. thomas drake martinez peters, miss. katie hassab, mr. hammad olsvigen, mr. thor anderson goodwin, mr. charles edward brown, mr. thomas william solomon laroche, mr. joseph philippe lemercier panula, mr. jaako arnold dakic, mr. branko fischer, mr. eberhard thelander madill, miss. georgette alexandra dick, mr. albert adrian karun, miss. manca lam, mr. ali saad, mr. khalil weir, col. john chapman, mr. charles henry kelly, mr. james mullens, miss. katherine \"katie\" thayer, mr. john borland humblen, mr. adolf mathias nicolai olsen astor, mrs. john jacob (madeleine talmadge force) silverthorne, mr. spencer victor barbara, miss. saiide gallagher, mr. martin hansen, mr. henrik juul morley, mr. henry samuel (\"mr henry marshall\") kelly, mrs. florence \"fannie\" calderhead, mr. edward pennington cleaver, miss. alice moubarek, master. halim gonios (\"william george\") mayne, mlle. berthe antonine (\"mrs de villiers\") klaber, mr. herman taylor, mr. elmer zebley larsson, mr. august viktor greenberg, mr. samuel soholt, mr. peter andreas lauritz andersen endres, miss. caroline louise troutt, miss. edwina celia \"winnie\" mcevoy, mr. michael johnson, mr. malkolm joackim harper, miss. annie jessie \"nina\" jensen, mr. svend lauritz gillespie, mr. william henry hodges, mr. henry price chambers, mr. norman campbell oreskovic, mr. luka renouf, mrs. peter henry (lillian jefferys) mannion, miss. margareth bryhl, mr. kurt arnold gottfrid ilmakangas, miss. pieta sofia allen, miss. elisabeth walton hassan, mr. houssein g n knight, mr. robert j berriman, mr. william john troupiansky, mr. moses aaron williams, mr. leslie ford, mrs. edward (margaret ann watson) lesurer, mr. gustave j ivanoff, mr. kanio nankoff, mr. minko hawksford, mr. walter james cavendish, mr. tyrell william ryerson, miss. susan parker \"suzette\" mcnamee, mr. neal stranden, mr. juho crosby, capt. edward gifford abbott, mr. rossmore edward sinkkonen, miss. anna marvin, mr. daniel warner connaghton, mr. michael wells, miss. joan moor, master. meier vande velde, mr. johannes joseph jonkoff, mr. lalio herman, mrs. samuel (jane laver) hamalainen, master. viljo carlsson, mr. august sigfrid bailey, mr. percy andrew theobald, mr. thomas leonard rothes, the countess. of (lucy noel martha dyer-edwards) garfirth, mr. john nirva, mr. iisakki antino aijo barah, mr. hanna assi carter, mrs. william ernest (lucile polk) eklund, mr. hans linus hogeboom, mrs. john c (anna andrews) brewe, dr. arthur jackson mangan, miss. mary moran, mr. daniel j gronnestad, mr. daniel danielsen lievens, mr. rene aime jensen, mr. niels peder mack, mrs. (mary) elias, mr. dibo hocking, mrs. elizabeth (eliza needs) myhrman, mr. pehr fabian oliver malkolm tobin, mr. roger emanuel, miss. virginia ethel kilgannon, mr. thomas j robert, mrs. edward scott (elisabeth walton mcmillan) ayoub, miss. banoura dick, mrs. albert adrian (vera gillespie) long, mr. milton clyde johnston, mr. andrew g ali, mr. william harmer, mr. abraham (david lishin) sjoblom, miss. anna sofia rice, master. george hugh dean, master. bertram vere guggenheim, mr. benjamin keane, mr. andrew \"andy\" gaskell, mr. alfred sage, miss. stella anna hoyt, mr. william fisher dantcheff, mr. ristiu otter, mr. richard leader, dr. alice (farnham) osman, mrs. mara ibrahim shawah, mr. yousseff van impe, mrs. jean baptiste (rosalie paula govaert) ponesell, mr. martin collyer, mrs. harvey (charlotte annie tate) carter, master. william thornton ii thomas, master. assad alexander hedman, mr. oskar arvid johansson, mr. karl johan andrews, mr. thomas jr pettersson, miss. ellen natalia meyer, mr. august chambers, mrs. norman campbell (bertha griggs) alexander, mr. william lester, mr. james slemen, mr. richard james andersson, miss. ebba iris alfrida tomlin, mr. ernest portage fry, mr. richard heininen, miss. wendla maria mallet, mr. albert holm, mr. john fredrik alexander skoog, master. karl thorsten hays, mrs. charles melville (clara jennings gregg) lulic, mr. nikola reuchlin, jonkheer. john george moor, mrs. (beila) panula, master. urho abraham flynn, mr. john lam, mr. len mallet, master. andre mccormack, mr. thomas joseph stone, mrs. george nelson (martha evelyn) yasbeck, mrs. antoni (selini alexander) richards, master. george sibley saad, mr. amin augustsson, mr. albert allum, mr. owen george compton, miss. sara rebecca pasic, mr. jakob sirota, mr. maurice chip, mr. chang marechal, mr. pierre alhomaki, mr. ilmari rudolf mudd, mr. thomas charles serepeca, miss. augusta lemberopolous, mr. peter l culumovic, mr. jeso abbing, mr. anthony sage, mr. douglas bullen markoff, mr. marin harper, rev. john goldenberg, mrs. samuel l (edwiga grabowska) andersson, master. sigvard harald elias svensson, mr. johan boulos, miss. nourelain lines, miss. mary conover carter, mrs. ernest courtenay (lilian hughes) aks, mrs. sam (leah rosen) wick, mrs. george dennick (mary hitchcock) daly, mr. peter denis  baclini, mrs. solomon (latifa qurban) razi, mr. raihed hansen, mr. claus peter giles, mr. frederick edward swift, mrs. frederick joel (margaret welles barron) sage, miss. dorothy edith \"dolly\" gill, mr. john william bystrom, mrs. (karolina) duran y more, miss. asuncion roebling, mr. washington augustus ii van melkebeke, mr. philemon johnson, master. harold theodor balkic, mr. cerin beckwith, mrs. richard leonard (sallie monypeny) carlsson, mr. frans olof vander cruyssen, mr. victor abelson, mrs. samuel (hannah wizosky) najib, miss. adele kiamie \"jane\" gustafsson, mr. alfred ossian petroff, mr. nedelio laleff, mr. kristo potter, mrs. thomas jr (lily alexenia wilson) shelley, mrs. william (imanita parrish hall) markun, mr. johann dahlberg, miss. gerda ulrika banfield, mr. frederick james sutehall, mr. henry jr rice, mrs. william (margaret norton) montvila, rev. juozas graham, miss. margaret edith johnston, miss. catherine helen \"carrie\" behr, mr. karl howell dooley, mr. patrick'"
      ]
     },
     "execution_count": 145,
     "metadata": {},
     "output_type": "execute_result"
    }
   ],
   "source": [
    "text"
   ]
  },
  {
   "cell_type": "code",
   "execution_count": 143,
   "metadata": {
    "collapsed": true
   },
   "outputs": [],
   "source": [
    "cnt = Counter()\n",
    "for i in xrange(len(text) - 2):\n",
    "    trigramm = text[i:i+3]\n",
    "    cnt[trigramm] += 1"
   ]
  },
  {
   "cell_type": "code",
   "execution_count": 144,
   "metadata": {
    "collapsed": false
   },
   "outputs": [
    {
     "data": {
      "text/plain": [
       "Counter({'rev': 7,\n",
       "         'all': 25,\n",
       "         'nwe': 1,\n",
       "         'sch': 6,\n",
       "         'xtu': 1,\n",
       "         'aub': 1,\n",
       "         'aue': 2,\n",
       "         'aud': 1,\n",
       "         'aug': 14,\n",
       "         'rek': 3,\n",
       "         '(jo': 3,\n",
       "         'ali': 22,\n",
       "         'aum': 3,\n",
       "         'aul': 5,\n",
       "         'aun': 4,\n",
       "         'xte': 2,\n",
       "         'aur': 9,\n",
       "         ' ta': 10,\n",
       "         'alg': 1,\n",
       "         '\"an': 3,\n",
       "         'sca': 3,\n",
       "         'rem': 3,\n",
       "         'fut': 2,\n",
       "         'ble': 4,\n",
       "         ' (b': 4,\n",
       "         'ava': 2,\n",
       "         'l/c': 1,\n",
       "         'k, ': 26,\n",
       "         'cmi': 1,\n",
       "         'upi': 1,\n",
       "         ' (g': 1,\n",
       "         'au,': 1,\n",
       "         'cma': 1,\n",
       "         ' (f': 4,\n",
       "         'lst': 1,\n",
       "         'ree': 6,\n",
       "         ' ka': 32,\n",
       "         'me ': 2,\n",
       "         ' ke': 9,\n",
       "         ' kh': 1,\n",
       "         ' ki': 9,\n",
       "         'me)': 1,\n",
       "         ' ko': 3,\n",
       "         ' kl': 3,\n",
       "         ' kr': 5,\n",
       "         ' kv': 1,\n",
       "         ' ku': 1,\n",
       "         'alt': 8,\n",
       "         'nen': 17,\n",
       "         'nel': 10,\n",
       "         'oze': 1,\n",
       "         'nef': 2,\n",
       "         'ned': 1,\n",
       "         'nee': 1,\n",
       "         'nec': 1,\n",
       "         'nea': 2,\n",
       "         'kun': 1,\n",
       "         'jac': 10,\n",
       "         'kul': 1,\n",
       "         'nez': 1,\n",
       "         'ney': 9,\n",
       "         'nev': 1,\n",
       "         'new': 4,\n",
       "         'net': 2,\n",
       "         'ner': 10,\n",
       "         'nes': 22,\n",
       "         'sli': 2,\n",
       "         'mee': 3,\n",
       "         'med': 2,\n",
       "         ' k ': 1,\n",
       "         'i b': 1,\n",
       "         'mea': 1,\n",
       "         'mel': 11,\n",
       "         'meo': 1,\n",
       "         'men': 2,\n",
       "         'mei': 1,\n",
       "         'met': 1,\n",
       "         'mes': 25,\n",
       "         'mer': 15,\n",
       "         '\"ar': 1,\n",
       "         'mey': 4,\n",
       "         'gli': 3,\n",
       "         'ne,': 15,\n",
       "         'wde': 1,\n",
       "         'ne)': 5,\n",
       "         'aks': 2,\n",
       "         'gla': 7,\n",
       "         'ne\"': 2,\n",
       "         'gle': 2,\n",
       "         'ne ': 49,\n",
       "         'dri': 4,\n",
       "         'gly': 1,\n",
       "         '(ro': 3,\n",
       "         'ako': 4,\n",
       "         'sjo': 2,\n",
       "         'dro': 1,\n",
       "         'akl': 2,\n",
       "         'dra': 5,\n",
       "         ' yr': 1,\n",
       "         'dre': 15,\n",
       "         'glu': 2,\n",
       "         'ake': 2,\n",
       "         'nk ': 6,\n",
       "         'nk\"': 1,\n",
       "         'bry': 1,\n",
       "         '\"ka': 3,\n",
       "         'nk,': 4,\n",
       "         'nk-': 1,\n",
       "         'a, ': 27,\n",
       "         'bro': 9,\n",
       "         'bri': 7,\n",
       "         'org': 32,\n",
       "         'bre': 5,\n",
       "         'bra': 11,\n",
       "         'dne': 4,\n",
       "         'aus': 8,\n",
       "         'orc': 1,\n",
       "         'er ': 59,\n",
       "         'er,': 71,\n",
       "         'er-': 2,\n",
       "         'er.': 41,\n",
       "         'er)': 8,\n",
       "         'nka': 1,\n",
       "         'nke': 3,\n",
       "         'nkh': 1,\n",
       "         'nki': 3,\n",
       "         'nkk': 1,\n",
       "         'nko': 9,\n",
       "         'rpi': 2,\n",
       "         'ert': 40,\n",
       "         'erv': 1,\n",
       "         'erw': 1,\n",
       "         'err': 4,\n",
       "         'ers': 35,\n",
       "         'y. ': 1,\n",
       "         'ery': 2,\n",
       "         'tne': 1,\n",
       "         'ere': 5,\n",
       "         'erg': 9,\n",
       "         'era': 1,\n",
       "         'erb': 1,\n",
       "         'erc': 7,\n",
       "         'erl': 5,\n",
       "         'erm': 8,\n",
       "         'ern': 27,\n",
       "         'ero': 4,\n",
       "         'erh': 2,\n",
       "         'eri': 38,\n",
       "         'erk': 3,\n",
       "         'la,': 12,\n",
       "         'la-': 2,\n",
       "         'la)': 2,\n",
       "         'l n': 1,\n",
       "         'la ': 9,\n",
       "         'al,': 4,\n",
       "         'm-s': 1,\n",
       "         'n\")': 5,\n",
       "         'mpe': 4,\n",
       "         'uan': 2,\n",
       "         'l k': 1,\n",
       "         'n\" ': 1,\n",
       "         'ov,': 1,\n",
       "         'hof': 1,\n",
       "         'ena': 5,\n",
       "         'enb': 3,\n",
       "         'enc': 11,\n",
       "         'end': 5,\n",
       "         'ene': 10,\n",
       "         'enf': 1,\n",
       "         'eng': 6,\n",
       "         'hon': 5,\n",
       "         'eni': 8,\n",
       "         'hol': 9,\n",
       "         'hom': 26,\n",
       "         'enn': 8,\n",
       "         'eno': 5,\n",
       "         'enp': 1,\n",
       "         '\"ha': 2,\n",
       "         'enr': 38,\n",
       "         'ens': 12,\n",
       "         'hor': 13,\n",
       "         'hos': 1,\n",
       "         'hop': 2,\n",
       "         'eny': 3,\n",
       "         'enz': 2,\n",
       "         'hoy': 3,\n",
       "         'lal': 3,\n",
       "         'ovs': 1,\n",
       "         'lan': 26,\n",
       "         'l d': 6,\n",
       "         'lah': 5,\n",
       "         'lai': 10,\n",
       "         'lak': 1,\n",
       "         'lad': 3,\n",
       "         '\"he': 1,\n",
       "         'laf': 2,\n",
       "         'lag': 1,\n",
       "         'lab': 2,\n",
       "         'lac': 3,\n",
       "         's\" ': 1,\n",
       "         'ova': 2,\n",
       "         'lay': 1,\n",
       "         'f h': 2,\n",
       "         'ove': 4,\n",
       "         'lat': 1,\n",
       "         'lau': 7,\n",
       "         'lav': 2,\n",
       "         'law': 2,\n",
       "         'ovo': 1,\n",
       "         'lar': 13,\n",
       "         'las': 8,\n",
       "         'en ': 39,\n",
       "         'en\"': 2,\n",
       "         'ho\"': 1,\n",
       "         'ho ': 6,\n",
       "         'en)': 5,\n",
       "         'ho,': 1,\n",
       "         'en,': 53,\n",
       "         'en-': 2,\n",
       "         'i p': 1,\n",
       "         'w, ': 3,\n",
       "         'mps': 2,\n",
       "         'zeb': 2,\n",
       "         'zef': 1,\n",
       "         'o\")': 1,\n",
       "         'zen': 2,\n",
       "         'zer': 1,\n",
       "         'l w': 6,\n",
       "         'zet': 1,\n",
       "         'ima': 4,\n",
       "         'fis': 4,\n",
       "         'imb': 2,\n",
       "         '\"pe': 1,\n",
       "         'cli': 7,\n",
       "         'gs ': 3,\n",
       "         'imi': 1,\n",
       "         'cle': 3,\n",
       "         'imm': 2,\n",
       "         'cla': 6,\n",
       "         'imo': 6,\n",
       "         'l r': 1,\n",
       "         'imp': 3,\n",
       "         'fia': 6,\n",
       "         'cly': 1,\n",
       "         'fie': 7,\n",
       "         'fik': 1,\n",
       "         'fin': 4,\n",
       "         'aru': 1,\n",
       "         'ews': 5,\n",
       "         'im ': 5,\n",
       "         'im,': 2,\n",
       "         'vy,': 1,\n",
       "         '(sa': 1,\n",
       "         '(se': 2,\n",
       "         '(gr': 1,\n",
       "         'nt)': 2,\n",
       "         'nt,': 3,\n",
       "         '(su': 1,\n",
       "         'nt ': 1,\n",
       "         '(sy': 1,\n",
       "         'gom': 1,\n",
       "         'gol': 6,\n",
       "         'goo': 6,\n",
       "         'gon': 2,\n",
       "         ' zi': 2,\n",
       "         'h w': 7,\n",
       "         ' ze': 3,\n",
       "         'god': 2,\n",
       "         'dst': 2,\n",
       "         ' za': 2,\n",
       "         'dss': 1,\n",
       "         'smo': 2,\n",
       "         'dso': 3,\n",
       "         'is)': 3,\n",
       "         'dsm': 3,\n",
       "         'm (': 11,\n",
       "         'smi': 8,\n",
       "         'ajo': 2,\n",
       "         'gou': 1,\n",
       "         'got': 1,\n",
       "         'gow': 1,\n",
       "         'is ': 21,\n",
       "         'dsc': 1,\n",
       "         'gos': 2,\n",
       "         'gor': 3,\n",
       "         'jos': 23,\n",
       "         'ntt': 2,\n",
       "         'ntv': 1,\n",
       "         'nti': 3,\n",
       "         'nth': 5,\n",
       "         'nto': 12,\n",
       "         'nta': 2,\n",
       "         'ntc': 3,\n",
       "         'nte': 3,\n",
       "         'ntg': 1,\n",
       "         'atf': 1,\n",
       "         'isz': 1,\n",
       "         'isy': 2,\n",
       "         'ate': 12,\n",
       "         '(al': 4,\n",
       "         '(am': 2,\n",
       "         '(an': 7,\n",
       "         'ata': 2,\n",
       "         'iss': 183,\n",
       "         'ato': 2,\n",
       "         '(ad': 5,\n",
       "         'go ': 2,\n",
       "         'ath': 20,\n",
       "         'ist': 18,\n",
       "         'isk': 3,\n",
       "         'att': 8,\n",
       "         'ish': 8,\n",
       "         '\"no': 3,\n",
       "         'ats': 3,\n",
       "         'ds)': 3,\n",
       "         'isc': 4,\n",
       "         'isa': 5,\n",
       "         '(au': 1,\n",
       "         '\"ne': 3,\n",
       "         'nhe': 1,\n",
       "         'nha': 2,\n",
       "         ' l ': 3,\n",
       "         ' l.': 1,\n",
       "         '\") ': 17,\n",
       "         'kic': 3,\n",
       "         'toy': 2,\n",
       "         'tor': 20,\n",
       "         'tow': 1,\n",
       "         'tou': 3,\n",
       "         'nz ': 1,\n",
       "         'ton': 30,\n",
       "         'too': 1,\n",
       "         'tol': 1,\n",
       "         'tom': 1,\n",
       "         'tob': 2,\n",
       "         'niu': 1,\n",
       "         'tod': 4,\n",
       "         ' le': 41,\n",
       "         'me.': 1,\n",
       "         ' la': 28,\n",
       "         ' lo': 15,\n",
       "         ' kn': 2,\n",
       "         'ads': 1,\n",
       "         ' li': 14,\n",
       "         'h) ': 3,\n",
       "         ' lu': 8,\n",
       "         'tef': 2,\n",
       "         ' fu': 4,\n",
       "         ' ly': 1,\n",
       "         'jj ': 1,\n",
       "         'kni': 1,\n",
       "         'osb': 4,\n",
       "         'kto': 5,\n",
       "         'ias': 8,\n",
       "         'to ': 7,\n",
       "         'fma': 1,\n",
       "         'nzo': 1,\n",
       "         'gg ': 1,\n",
       "         'ty,': 2,\n",
       "         'rad': 4,\n",
       "         'rae': 1,\n",
       "         '. y': 3,\n",
       "         'rac': 4,\n",
       "         'cyr': 1,\n",
       "         'ran': 32,\n",
       "         '. t': 34,\n",
       "         'ral': 2,\n",
       "         'ram': 7,\n",
       "         '. q': 1,\n",
       "         '. p': 30,\n",
       "         '. s': 48,\n",
       "         '. r': 33,\n",
       "         '. m': 71,\n",
       "         '. l': 32,\n",
       "         '. o': 10,\n",
       "         '. n': 18,\n",
       "         'lbe': 11,\n",
       "         '. h': 61,\n",
       "         '. k': 26,\n",
       "         '. j': 102,\n",
       "         '. e': 85,\n",
       "         '. d': 19,\n",
       "         '. g': 31,\n",
       "         '. f': 34,\n",
       "         '. a': 95,\n",
       "         '. c': 35,\n",
       "         '. b': 21,\n",
       "         'on,': 85,\n",
       "         'do,': 1,\n",
       "         'do ': 4,\n",
       "         'x p': 1,\n",
       "         'x t': 1,\n",
       "         'hul': 1,\n",
       "         'g e': 1,\n",
       "         'ype': 2,\n",
       "         'on ': 45,\n",
       "         '-bl': 1,\n",
       "         'ra\"': 2,\n",
       "         'thi': 6,\n",
       "         'ra ': 17,\n",
       "         'bst': 1,\n",
       "         'ra,': 2,\n",
       "         'bso': 2,\n",
       "         '. (': 16,\n",
       "         '-br': 1,\n",
       "         'doh': 1,\n",
       "         'doi': 1,\n",
       "         'don': 5,\n",
       "         'doo': 2,\n",
       "         'dol': 10,\n",
       "         'dom': 1,\n",
       "         'dod': 1,\n",
       "         ' fl': 9,\n",
       "         ' y ': 5,\n",
       "         'sun': 3,\n",
       "         'dor': 8,\n",
       "         'dos': 1,\n",
       "         'dow': 2,\n",
       "         'dot': 1,\n",
       "         'dou': 3,\n",
       "         'm a': 8,\n",
       "         'kur': 1,\n",
       "         'rst': 3,\n",
       "         'och': 4,\n",
       "         'ock': 7,\n",
       "         'em ': 1,\n",
       "         'oco': 1,\n",
       "         'em,': 1,\n",
       "         'em)': 1,\n",
       "         'hrm': 1,\n",
       "         'hro': 1,\n",
       "         'hri': 8,\n",
       "         'ba ': 1,\n",
       "         'm i': 1,\n",
       "         't \"': 2,\n",
       "         'abu': 1,\n",
       "         'apo': 1,\n",
       "         'v. ': 6,\n",
       "         'dr.': 7,\n",
       "         'eme': 3,\n",
       "         'm, ': 31,\n",
       "         'bau': 3,\n",
       "         'bar': 15,\n",
       "         'bas': 1,\n",
       "         'bap': 3,\n",
       "         'emb': 2,\n",
       "         'emm': 3,\n",
       "         'emo': 3,\n",
       "         'emi': 17,\n",
       "         'bax': 2,\n",
       "         'hr,': 1,\n",
       "         'bad': 1,\n",
       "         'bac': 6,\n",
       "         'ban': 4,\n",
       "         'ldw': 2,\n",
       "         'bal': 5,\n",
       "         'hr ': 1,\n",
       "         'bai': 3,\n",
       "         'om\"': 1,\n",
       "         'nus': 1,\n",
       "         'om-': 1,\n",
       "         'om,': 18,\n",
       "         'nul': 6,\n",
       "         'nud': 1,\n",
       "         'nue': 3,\n",
       "         'l) ': 5,\n",
       "         'il ': 7,\n",
       "         'mur': 3,\n",
       "         '(be': 4,\n",
       "         'il,': 3,\n",
       "         'irt': 1,\n",
       "         'irv': 3,\n",
       "         'irw': 1,\n",
       "         'mue': 13,\n",
       "         'co ': 5,\n",
       "         'irk': 4,\n",
       "         'irn': 1,\n",
       "         'iro': 1,\n",
       "         'un)': 1,\n",
       "         'mun': 2,\n",
       "         'ird': 2,\n",
       "         'ire': 1,\n",
       "         'irg': 2,\n",
       "         'oma': 24,\n",
       "         'omf': 1,\n",
       "         'ome': 6,\n",
       "         'hai': 1,\n",
       "         'ask': 1,\n",
       "         'omi': 1,\n",
       "         'omo': 3,\n",
       "         'elh': 2,\n",
       "         'omm': 1,\n",
       "         'oml': 1,\n",
       "         'omp': 3,\n",
       "         'hal': 14,\n",
       "         'ham': 20,\n",
       "         'ilg': 1,\n",
       "         'ild': 12,\n",
       "         'cor': 7,\n",
       "         'unt': 4,\n",
       "         'cot': 2,\n",
       "         'cov': 1,\n",
       "         'iln': 2,\n",
       "         'ilo': 1,\n",
       "         'ill': 101,\n",
       "         'ilm': 3,\n",
       "         'ilj': 3,\n",
       "         'ilk': 1,\n",
       "         'ilh': 7,\n",
       "         'ili': 8,\n",
       "         'ilv': 4,\n",
       "         'a \"': 7,\n",
       "         'coc': 2,\n",
       "         'cob': 5,\n",
       "         'und': 15,\n",
       "         'une': 4,\n",
       "         'ir.': 1,\n",
       "         'ung': 2,\n",
       "         'coi': 1,\n",
       "         'coh': 1,\n",
       "         'unk': 2,\n",
       "         'com': 2,\n",
       "         'col': 14,\n",
       "         'unn': 1,\n",
       "         'con': 9,\n",
       "         ' me': 14,\n",
       "         'kwe': 1,\n",
       "         ' ma': 167,\n",
       "         ' mc': 13,\n",
       "         'kwi': 2,\n",
       "         ' mm': 1,\n",
       "         'e g': 10,\n",
       "         ' mo': 30,\n",
       "         ' mi': 205,\n",
       "         'kwo': 1,\n",
       "         ' mu': 8,\n",
       "         'ang': 6,\n",
       "         'eld': 9,\n",
       "         ' mr': 642,\n",
       "         ' ms': 1,\n",
       "         'ele': 18,\n",
       "         ' my': 1,\n",
       "         'san': 6,\n",
       "         'fra': 26,\n",
       "         'anb': 2,\n",
       "         'fre': 32,\n",
       "         'rga': 19,\n",
       "         ' ri': 29,\n",
       "         'fri': 5,\n",
       "         'sal': 5,\n",
       "         'fro': 3,\n",
       "         'kon': 4,\n",
       "         'sab': 6,\n",
       "         'fry': 1,\n",
       "         'ai ': 5,\n",
       "         'ai\"': 1,\n",
       "         'k a': 2,\n",
       "         'mcm': 2,\n",
       "         'k c': 4,\n",
       "         ' m ': 3,\n",
       "         'k e': 1,\n",
       "         'k f': 1,\n",
       "         'k g': 2,\n",
       "         'mcg': 3,\n",
       "         'sag': 8,\n",
       "         'k j': 8,\n",
       "         'mcd': 1,\n",
       "         'mcc': 4,\n",
       "         'k m': 3,\n",
       "         '(ti': 1,\n",
       "         'k o': 2,\n",
       "         'k r': 2,\n",
       "         'k s': 2,\n",
       "         'k t': 2,\n",
       "         'k w': 4,\n",
       "         'ank': 17,\n",
       "         'har': 90,\n",
       "         'ait': 1,\n",
       "         ' yo': 8,\n",
       "         'yot': 1,\n",
       "         'ais': 3,\n",
       "         'air': 3,\n",
       "         'aim': 2,\n",
       "         'ail': 1,\n",
       "         'aio': 1,\n",
       "         'ain': 11,\n",
       "         'aii': 1,\n",
       "         'aih': 1,\n",
       "         'gne': 3,\n",
       "         'gnj': 1,\n",
       "         'sle': 5,\n",
       "         'sla': 3,\n",
       "         'aic': 1,\n",
       "         'ni,': 9,\n",
       "         'ni\"': 1,\n",
       "         'ni ': 4,\n",
       "         'ld ': 16,\n",
       "         'ki,': 4,\n",
       "         'rno': 7,\n",
       "         'ki ': 1,\n",
       "         'akk': 3,\n",
       "         'ado': 6,\n",
       "         'aki': 5,\n",
       "         'th,': 11,\n",
       "         'sau': 1,\n",
       "         'th)': 1,\n",
       "         'n w': 14,\n",
       "         'th ': 30,\n",
       "         'nik': 2,\n",
       "         'ko ': 5,\n",
       "         'nii': 1,\n",
       "         'nin': 8,\n",
       "         'nio': 4,\n",
       "         'nil': 6,\n",
       "         'kis': 1,\n",
       "         'nic': 9,\n",
       "         'nia': 3,\n",
       "         'nig': 1,\n",
       "         'nie': 24,\n",
       "         'tz ': 4,\n",
       "         'kin': 16,\n",
       "         'kim': 3,\n",
       "         'kil': 1,\n",
       "         'nir': 2,\n",
       "         'nis': 5,\n",
       "         'kia': 1,\n",
       "         'ld,': 6,\n",
       "         'aka': 2,\n",
       "         'kie': 2,\n",
       "         'kid': 2,\n",
       "         'thy': 6,\n",
       "         'n l': 16,\n",
       "         'thu': 14,\n",
       "         '-st': 2,\n",
       "         'ths': 1,\n",
       "         'tho': 37,\n",
       "         'ur,': 2,\n",
       "         'eph': 20,\n",
       "         'the': 28,\n",
       "         'epe': 3,\n",
       "         'tha': 20,\n",
       "         'epa': 1,\n",
       "         'dse': 1,\n",
       "         'rn,': 2,\n",
       "         'ck)': 4,\n",
       "         'yef': 1,\n",
       "         'n e': 4,\n",
       "         'via': 2,\n",
       "         'n (': 14,\n",
       "         'op,': 2,\n",
       "         'yer': 15,\n",
       "         'n g': 15,\n",
       "         'k (': 3,\n",
       "         'n \"': 6,\n",
       "         'elk': 2,\n",
       "         'a (': 4,\n",
       "         'eli': 50,\n",
       "         'eln': 1,\n",
       "         'elo': 3,\n",
       "         'han': 49,\n",
       "         'elm': 14,\n",
       "         'elb': 1,\n",
       "         'haa': 1,\n",
       "         'hab': 1,\n",
       "         'ela': 5,\n",
       "         'had': 1,\n",
       "         'hae': 3,\n",
       "         'haf': 1,\n",
       "         'hag': 2,\n",
       "         'hax': 1,\n",
       "         'hay': 7,\n",
       "         'ely': 1,\n",
       "         'hap': 3,\n",
       "         'els': 15,\n",
       "         'bna': 1,\n",
       "         'has': 3,\n",
       "         'hat': 1,\n",
       "         'hav': 1,\n",
       "         'haw': 2,\n",
       "         'rni': 2,\n",
       "         'rnh': 2,\n",
       "         'n y': 1,\n",
       "         'ye,': 1,\n",
       "         'n z': 1,\n",
       "         'n t': 6,\n",
       "         'rna': 6,\n",
       "         'n v': 3,\n",
       "         'n p': 6,\n",
       "         'n s': 11,\n",
       "         'n r': 9,\n",
       "         'n m': 22,\n",
       "         'ope': 1,\n",
       "         'n o': 5,\n",
       "         'n n': 5,\n",
       "         'n i': 6,\n",
       "         'n h': 19,\n",
       "         'n k': 5,\n",
       "         'n j': 11,\n",
       "         'rns': 8,\n",
       "         'n d': 9,\n",
       "         'rnq': 1,\n",
       "         'n f': 5,\n",
       "         'n a': 5,\n",
       "         'lck': 1,\n",
       "         'n c': 11,\n",
       "         'rnt': 3,\n",
       "         'a j': 6,\n",
       "         'a k': 8,\n",
       "         'a h': 11,\n",
       "         'el)': 1,\n",
       "         'a n': 3,\n",
       "         'el,': 3,\n",
       "         'a l': 4,\n",
       "         'a m': 25,\n",
       "         'ha ': 14,\n",
       "         'a c': 11,\n",
       "         'el ': 38,\n",
       "         'a a': 16,\n",
       "         'a f': 3,\n",
       "         'a g': 8,\n",
       "         'a d': 5,\n",
       "         'a e': 8,\n",
       "         'a b': 13,\n",
       "         'a r': 7,\n",
       "         'a s': 14,\n",
       "         'a p': 13,\n",
       "         'a q': 1,\n",
       "         'a v': 3,\n",
       "         'a w': 7,\n",
       "         'a t': 4,\n",
       "         'a u': 1,\n",
       "         'ola': 13,\n",
       "         'olc': 1,\n",
       "         'old': 14,\n",
       "         'ole': 6,\n",
       "         'olf': 4,\n",
       "         'oli': 9,\n",
       "         'olk': 2,\n",
       "         'oll': 9,\n",
       "         'olm': 4,\n",
       "         'oln': 1,\n",
       "         'olo': 8,\n",
       "         'olp': 1,\n",
       "         'ols': 10,\n",
       "         'olt': 1,\n",
       "         'olv': 2,\n",
       "         'r) ': 8,\n",
       "         'ick': 35,\n",
       "         'ich': 29,\n",
       "         'ico': 3,\n",
       "         'an\"': 3,\n",
       "         'for': 16,\n",
       "         'ica': 1,\n",
       "         'fox': 1,\n",
       "         'ice': 17,\n",
       "         'ume': 2,\n",
       "         'uma': 2,\n",
       "         'cna': 1,\n",
       "         'umm': 1,\n",
       "         'fon': 3,\n",
       "         'foo': 1,\n",
       "         'umi': 2,\n",
       "         'ict': 8,\n",
       "         'hsc': 1,\n",
       "         'plu': 4,\n",
       "         'eyc': 2,\n",
       "         'ol.': 2,\n",
       "         'awr': 2,\n",
       "         'ple': 1,\n",
       "         'pla': 3,\n",
       "         'rg)': 1,\n",
       "         'plo': 1,\n",
       "         'obl': 1,\n",
       "         'ic,': 20,\n",
       "         'obe': 13,\n",
       "         'obb': 3,\n",
       "         'oba': 1,\n",
       "         'fo ': 1,\n",
       "         'um ': 1,\n",
       "         'um,': 1,\n",
       "         'um)': 1,\n",
       "         'obs': 2,\n",
       "         'mbl': 1,\n",
       "         'ppa': 2,\n",
       "         'aha': 8,\n",
       "         'ars': 10,\n",
       "         'mbi': 1,\n",
       "         'ppe': 2,\n",
       "         'sof': 6,\n",
       "         'mbe': 6,\n",
       "         'ahi': 3,\n",
       "         'som': 2,\n",
       "         'aho': 3,\n",
       "         'ahl': 8,\n",
       "         'd (': 10,\n",
       "         'sop': 2,\n",
       "         'sou': 2,\n",
       "         'sot': 1,\n",
       "         'aht': 1,\n",
       "         ' d ': 3,\n",
       "         'mbr': 1,\n",
       "         'wan': 3,\n",
       "         'wal': 12,\n",
       "         'wah': 1,\n",
       "         'wae': 1,\n",
       "         'wad': 1,\n",
       "         'o v': 2,\n",
       "         'gig': 1,\n",
       "         'gif': 1,\n",
       "         'gie': 2,\n",
       "         'gid': 2,\n",
       "         'waz': 1,\n",
       "         'way': 1,\n",
       "         'gin': 4,\n",
       "         'gil': 8,\n",
       "         'was': 2,\n",
       "         'war': 27,\n",
       "         'ah\"': 2,\n",
       "         'so ': 1,\n",
       "         'ah ': 4,\n",
       "         'd d': 3,\n",
       "         'd c': 9,\n",
       "         'd b': 9,\n",
       "         'd a': 7,\n",
       "         'd o': 3,\n",
       "         'd n': 3,\n",
       "         'd m': 3,\n",
       "         'd l': 10,\n",
       "         'd k': 2,\n",
       "         'd j': 8,\n",
       "         'ah,': 4,\n",
       "         'd h': 10,\n",
       "         'd w': 4,\n",
       "         'd v': 2,\n",
       "         'd t': 3,\n",
       "         'd s': 7,\n",
       "         'd r': 3,\n",
       "         'd p': 6,\n",
       "         'd z': 1,\n",
       "         'd y': 2,\n",
       "         'mi,': 1,\n",
       "         'azi': 2,\n",
       "         'azl': 1,\n",
       "         'aze': 1,\n",
       "         '\"lo': 2,\n",
       "         '(ca': 3,\n",
       "         'mi ': 2,\n",
       "         '(ch': 2,\n",
       "         '(co': 1,\n",
       "         '(cl': 2,\n",
       "         'nno': 8,\n",
       "         ' \"b': 1,\n",
       "         'nni': 19,\n",
       "         ' n ': 1,\n",
       "         'nne': 16,\n",
       "         'nna': 27,\n",
       "         'kha': 3,\n",
       "         'khe': 1,\n",
       "         'rig': 5,\n",
       "         'tiu': 1,\n",
       "         'tis': 5,\n",
       "         'til': 8,\n",
       "         'tim': 3,\n",
       "         'tin': 20,\n",
       "         'tio': 1,\n",
       "         'tik': 1,\n",
       "         'tid': 1,\n",
       "         'tie': 5,\n",
       "         'tif': 1,\n",
       "         'tia': 6,\n",
       "         ' ni': 20,\n",
       "         'nn,': 9,\n",
       "         ' no': 10,\n",
       "         ' na': 15,\n",
       "         ' ne': 13,\n",
       "         'nn ': 4,\n",
       "         ' ny': 3,\n",
       "         'h \"': 4,\n",
       "         'ti,': 1,\n",
       "         'fss': 5,\n",
       "         'ti ': 5,\n",
       "         't w': 5,\n",
       "         'roi': 1,\n",
       "         'lly': 10,\n",
       "         't t': 1,\n",
       "         't s': 5,\n",
       "         'rom': 14,\n",
       "         'ron': 5,\n",
       "         'roo': 1,\n",
       "         'lls': 3,\n",
       "         'rob': 14,\n",
       "         'roc': 4,\n",
       "         'ost': 6,\n",
       "         'osw': 1,\n",
       "         'rog': 5,\n",
       "         'osi': 1,\n",
       "         't f': 2,\n",
       "         'lli': 96,\n",
       "         't d': 5,\n",
       "         'osm': 2,\n",
       "         't b': 6,\n",
       "         't a': 9,\n",
       "         'rop': 1,\n",
       "         't n': 2,\n",
       "         'osc': 3,\n",
       "         'ros': 15,\n",
       "         'ose': 26,\n",
       "         't j': 6,\n",
       "         'lle': 33,\n",
       "         'row': 9,\n",
       "         'rne': 24,\n",
       "         'ver': 10,\n",
       "         'ves': 3,\n",
       "         'pen': 10,\n",
       "         'vey': 6,\n",
       "         'ved': 1,\n",
       "         'vee': 1,\n",
       "         'ven': 11,\n",
       "         'vel': 5,\n",
       "         'ey ': 16,\n",
       "         'lri': 2,\n",
       "         'umb': 1,\n",
       "         'dez': 1,\n",
       "         'g s': 2,\n",
       "         'os)': 1,\n",
       "         'g m': 2,\n",
       "         'll)': 3,\n",
       "         ' \"k': 3,\n",
       "         'g h': 1,\n",
       "         'os,': 5,\n",
       "         'll,': 24,\n",
       "         'g d': 2,\n",
       "         'll\"': 2,\n",
       "         'll ': 6,\n",
       "         'g a': 1,\n",
       "         'g b': 1,\n",
       "         't (': 7,\n",
       "         'dil': 1,\n",
       "         'dim': 1,\n",
       "         'din': 3,\n",
       "         'gug': 1,\n",
       "         'gue': 3,\n",
       "         'ge\"': 1,\n",
       "         'gui': 1,\n",
       "         'dig': 1,\n",
       "         'dib': 1,\n",
       "         'dic': 4,\n",
       "         'gus': 25,\n",
       "         'gur': 2,\n",
       "         'ge ': 25,\n",
       "         've ': 1,\n",
       "         'dit': 6,\n",
       "         ' de': 22,\n",
       "         'dis': 1,\n",
       "         'ulr': 2,\n",
       "         'w) ': 1,\n",
       "         'hto': 1,\n",
       "         'det': 1,\n",
       "         'hti': 1,\n",
       "         'ey,': 20,\n",
       "         'dev': 2,\n",
       "         'erd': 1,\n",
       "         'ek,': 3,\n",
       "         'bo ': 1,\n",
       "         'den': 18,\n",
       "         'nge': 6,\n",
       "         'v, ': 1,\n",
       "         'b f': 1,\n",
       "         'ht)': 1,\n",
       "         'rud': 4,\n",
       "         'eko': 2,\n",
       "         'ekl': 1,\n",
       "         'ekk': 2,\n",
       "         'eki': 1,\n",
       "         'bor': 6,\n",
       "         'bos': 1,\n",
       "         'bot': 2,\n",
       "         'bou': 9,\n",
       "         'bow': 4,\n",
       "         'bom': 2,\n",
       "         'bon': 2,\n",
       "         'boo': 1,\n",
       "         'eks': 1,\n",
       "         '-ya': 2,\n",
       "         '\"ma': 3,\n",
       "         'hst': 1,\n",
       "         'oo,': 1,\n",
       "         '\"mi': 1,\n",
       "         '\"mr': 8,\n",
       "         'ips': 2,\n",
       "         'ipp': 4,\n",
       "         'uzz': 1,\n",
       "         'oeb': 2,\n",
       "         'ayl': 3,\n",
       "         'ayo': 1,\n",
       "         'ayn': 1,\n",
       "         'ib,': 1,\n",
       "         'ae ': 1,\n",
       "         'aye': 4,\n",
       "         'j p': 1,\n",
       "         ...})"
      ]
     },
     "execution_count": 144,
     "metadata": {},
     "output_type": "execute_result"
    }
   ],
   "source": [
    "cnt "
   ]
  },
  {
   "cell_type": "code",
   "execution_count": null,
   "metadata": {
    "collapsed": true
   },
   "outputs": [],
   "source": []
  },
  {
   "cell_type": "code",
   "execution_count": null,
   "metadata": {
    "collapsed": true
   },
   "outputs": [],
   "source": []
  },
  {
   "cell_type": "code",
   "execution_count": null,
   "metadata": {
    "collapsed": true
   },
   "outputs": [],
   "source": []
  },
  {
   "cell_type": "code",
   "execution_count": null,
   "metadata": {
    "collapsed": true
   },
   "outputs": [],
   "source": []
  },
  {
   "cell_type": "code",
   "execution_count": null,
   "metadata": {
    "collapsed": true
   },
   "outputs": [],
   "source": []
  },
  {
   "cell_type": "code",
   "execution_count": null,
   "metadata": {
    "collapsed": true
   },
   "outputs": [],
   "source": []
  }
 ],
 "metadata": {
  "anaconda-cloud": {},
  "kernelspec": {
   "display_name": "Python [conda root]",
   "language": "python",
   "name": "conda-root-py"
  },
  "language_info": {
   "codemirror_mode": {
    "name": "ipython",
    "version": 2
   },
   "file_extension": ".py",
   "mimetype": "text/x-python",
   "name": "python",
   "nbconvert_exporter": "python",
   "pygments_lexer": "ipython2",
   "version": "2.7.12"
  },
  "nbpresent": {
   "slides": {
    "0418cdc3-12ff-4f46-bb13-8f771adb3e0f": {
     "id": "0418cdc3-12ff-4f46-bb13-8f771adb3e0f",
     "prev": "d3ec77fb-4682-432d-895d-9af544a76072",
     "regions": {
      "9aa3bed0-7070-4c29-9475-f293244e071d": {
       "attrs": {
        "height": 0.8,
        "width": 0.8,
        "x": 0.1,
        "y": 0.1
       },
       "content": {
        "cell": "4e1ccf15-142f-419a-aef8-9ad67f0a211b",
        "part": "whole"
       },
       "id": "9aa3bed0-7070-4c29-9475-f293244e071d"
      }
     }
    },
    "125c8087-67d5-4eb1-9f4c-65148fdb7fc0": {
     "id": "125c8087-67d5-4eb1-9f4c-65148fdb7fc0",
     "prev": "b4b39983-346b-48dd-b10e-3de0beb1419c",
     "regions": {
      "90c2b18f-74c8-4dfb-b5ea-f0af4db4e926": {
       "attrs": {
        "height": 0.8,
        "width": 0.8,
        "x": 0.1,
        "y": 0.1
       },
       "content": {
        "cell": "fc46c90d-22d3-4bd1-814e-c0a0d1d018b3",
        "part": "whole"
       },
       "id": "90c2b18f-74c8-4dfb-b5ea-f0af4db4e926"
      }
     }
    },
    "22184188-0e07-4106-bf70-cad870b8e999": {
     "id": "22184188-0e07-4106-bf70-cad870b8e999",
     "prev": "a813e83a-e535-4d28-bd5d-2e697cc9b857",
     "regions": {
      "2258d059-6744-4225-bc4f-d570b90d7004": {
       "attrs": {
        "height": 0.8,
        "width": 0.8,
        "x": 0.1,
        "y": 0.1
       },
       "content": {
        "cell": "cde18491-2f7f-4814-9221-cd07569c50a5",
        "part": "whole"
       },
       "id": "2258d059-6744-4225-bc4f-d570b90d7004"
      }
     }
    },
    "39103cc8-453c-4f29-92f3-01674cf40147": {
     "id": "39103cc8-453c-4f29-92f3-01674cf40147",
     "prev": "d2e4c00d-6465-4bc5-87d0-eb01d0332de0",
     "regions": {
      "03100b8c-5da8-478d-9241-07ecd88dd130": {
       "attrs": {
        "height": 0.8,
        "width": 0.8,
        "x": 0.1,
        "y": 0.1
       },
       "content": {
        "cell": "dd7ceff4-9966-459d-a23a-9434177aa2ab",
        "part": "whole"
       },
       "id": "03100b8c-5da8-478d-9241-07ecd88dd130"
      }
     }
    },
    "45f14e54-1904-4291-9ecd-51b492795969": {
     "id": "45f14e54-1904-4291-9ecd-51b492795969",
     "prev": "6e39972d-c69f-4cba-ac51-6d42ffd1a163",
     "regions": {
      "c03e2056-4c6c-4ccc-a909-a83ac9179e81": {
       "attrs": {
        "height": 0.8,
        "width": 0.8,
        "x": 0.1,
        "y": 0.1
       },
       "content": {
        "cell": "e7f9cc96-1f27-4826-9424-3ae8471c454f",
        "part": "whole"
       },
       "id": "c03e2056-4c6c-4ccc-a909-a83ac9179e81"
      }
     }
    },
    "482f9f76-e15b-467b-b549-6e2f482a3fd2": {
     "id": "482f9f76-e15b-467b-b549-6e2f482a3fd2",
     "prev": "22184188-0e07-4106-bf70-cad870b8e999",
     "regions": {
      "42a795bd-b957-4add-a5ed-cddeb707010d": {
       "attrs": {
        "height": 0.8,
        "width": 0.8,
        "x": 0.1,
        "y": 0.1
       },
       "content": {
        "cell": "c7e17e41-790a-4e53-bbe3-b8e21ab166fc",
        "part": "whole"
       },
       "id": "42a795bd-b957-4add-a5ed-cddeb707010d"
      }
     }
    },
    "4ed31606-8664-4569-8aa7-84b87e383986": {
     "id": "4ed31606-8664-4569-8aa7-84b87e383986",
     "prev": "39103cc8-453c-4f29-92f3-01674cf40147",
     "regions": {
      "d3917fdf-919c-483d-9e9f-21c8fd7d8f83": {
       "attrs": {
        "height": 0.8,
        "width": 0.8,
        "x": 0.1,
        "y": 0.1
       },
       "content": {
        "cell": "fb19f2f3-b576-417a-a489-6728ffc77062",
        "part": "whole"
       },
       "id": "d3917fdf-919c-483d-9e9f-21c8fd7d8f83"
      }
     }
    },
    "579cf841-e28b-44f6-95a6-a92a28c6b447": {
     "id": "579cf841-e28b-44f6-95a6-a92a28c6b447",
     "prev": "a6131291-1c74-40a1-8749-7e6f11053fa6",
     "regions": {
      "5e242642-7608-4383-894d-71c4e41b09d4": {
       "attrs": {
        "height": 0.8,
        "width": 0.8,
        "x": 0.1,
        "y": 0.1
       },
       "content": {
        "cell": "1c2a9dc6-5118-4602-804a-e9b5771efefa",
        "part": "whole"
       },
       "id": "5e242642-7608-4383-894d-71c4e41b09d4"
      }
     }
    },
    "5a8d1277-26be-4e47-8a45-94d06a811e70": {
     "id": "5a8d1277-26be-4e47-8a45-94d06a811e70",
     "prev": "0418cdc3-12ff-4f46-bb13-8f771adb3e0f",
     "regions": {
      "c6708770-a139-435c-b9cb-61df5e56b242": {
       "attrs": {
        "height": 0.8,
        "width": 0.8,
        "x": 0.1,
        "y": 0.1
       },
       "content": {
        "cell": "d6f0b73d-c370-4dfc-9d38-ae637a7bb74b",
        "part": "whole"
       },
       "id": "c6708770-a139-435c-b9cb-61df5e56b242"
      }
     }
    },
    "6e39972d-c69f-4cba-ac51-6d42ffd1a163": {
     "id": "6e39972d-c69f-4cba-ac51-6d42ffd1a163",
     "prev": null,
     "regions": {
      "dcd67d73-9949-4fd4-b547-8629bb0f62dc": {
       "attrs": {
        "height": 0.8,
        "width": 0.8,
        "x": 0.1,
        "y": 0.1
       },
       "content": {
        "cell": "3a7c68f6-8cc8-4475-9609-8f02f2fe2a41",
        "part": "whole"
       },
       "id": "dcd67d73-9949-4fd4-b547-8629bb0f62dc"
      }
     }
    },
    "7a97c574-edca-4034-9790-960ba89d28a6": {
     "id": "7a97c574-edca-4034-9790-960ba89d28a6",
     "prev": "4ed31606-8664-4569-8aa7-84b87e383986",
     "regions": {
      "94609cdb-f243-451d-9633-081d7759c317": {
       "attrs": {
        "height": 0.8,
        "width": 0.8,
        "x": 0.1,
        "y": 0.1
       },
       "content": {
        "cell": "082f4a14-4026-48bf-9aad-854ee6fdc3c0",
        "part": "whole"
       },
       "id": "94609cdb-f243-451d-9633-081d7759c317"
      }
     }
    },
    "92c72a60-ff7f-4db0-9de4-bb1fb36ed0aa": {
     "id": "92c72a60-ff7f-4db0-9de4-bb1fb36ed0aa",
     "prev": "bd84fe79-9fdd-41b9-9a93-588b1839edbe",
     "regions": {
      "4f0865e7-c4c3-4404-b119-4c1af07ffadb": {
       "attrs": {
        "height": 0.8,
        "width": 0.8,
        "x": 0.1,
        "y": 0.1
       },
       "content": {
        "cell": "1d28cd53-1546-4e85-83f9-7e7b12a422e0",
        "part": "whole"
       },
       "id": "4f0865e7-c4c3-4404-b119-4c1af07ffadb"
      }
     }
    },
    "9fa58131-0927-4e9f-a3ff-63abb49ca76d": {
     "id": "9fa58131-0927-4e9f-a3ff-63abb49ca76d",
     "prev": "d5536cc0-c211-4c25-914e-0c821de98782",
     "regions": {
      "4258753f-4ac9-4869-b24a-26fb2ea1749b": {
       "attrs": {
        "height": 0.8,
        "width": 0.8,
        "x": 0.1,
        "y": 0.1
       },
       "content": {
        "cell": "2724e9b5-507e-4a55-af4f-1808a45219c0",
        "part": "whole"
       },
       "id": "4258753f-4ac9-4869-b24a-26fb2ea1749b"
      }
     }
    },
    "a6131291-1c74-40a1-8749-7e6f11053fa6": {
     "id": "a6131291-1c74-40a1-8749-7e6f11053fa6",
     "prev": "7a97c574-edca-4034-9790-960ba89d28a6",
     "regions": {
      "79300c61-e56d-4cf1-ac60-b3b4aa45bd4e": {
       "attrs": {
        "height": 0.8,
        "width": 0.8,
        "x": 0.1,
        "y": 0.1
       },
       "content": {
        "cell": "ad316f63-47fe-48e3-85e0-2057db2c308e",
        "part": "whole"
       },
       "id": "79300c61-e56d-4cf1-ac60-b3b4aa45bd4e"
      }
     }
    },
    "a813e83a-e535-4d28-bd5d-2e697cc9b857": {
     "id": "a813e83a-e535-4d28-bd5d-2e697cc9b857",
     "prev": "e486a112-0de9-4e2a-a2ea-1a49eabd1089",
     "regions": {
      "2be9bc8b-0eb5-493d-a9db-2e58520bc0ad": {
       "attrs": {
        "height": 0.8,
        "width": 0.8,
        "x": 0.1,
        "y": 0.1
       },
       "content": {
        "cell": "0db904e1-42f4-421d-a105-c3becb5d508f",
        "part": "whole"
       },
       "id": "2be9bc8b-0eb5-493d-a9db-2e58520bc0ad"
      }
     }
    },
    "b4b39983-346b-48dd-b10e-3de0beb1419c": {
     "id": "b4b39983-346b-48dd-b10e-3de0beb1419c",
     "prev": "482f9f76-e15b-467b-b549-6e2f482a3fd2",
     "regions": {
      "f1cfff61-d22a-4523-b9ab-51cd2c3f5fbf": {
       "attrs": {
        "height": 0.8,
        "width": 0.8,
        "x": 0.1,
        "y": 0.1
       },
       "content": {
        "cell": "a0aea618-6933-4b02-926b-245008e2a529",
        "part": "whole"
       },
       "id": "f1cfff61-d22a-4523-b9ab-51cd2c3f5fbf"
      }
     }
    },
    "bd84fe79-9fdd-41b9-9a93-588b1839edbe": {
     "id": "bd84fe79-9fdd-41b9-9a93-588b1839edbe",
     "prev": "5a8d1277-26be-4e47-8a45-94d06a811e70",
     "regions": {
      "b2058c11-5fc7-43ab-986a-f1f719b6e516": {
       "attrs": {
        "height": 0.8,
        "width": 0.8,
        "x": 0.1,
        "y": 0.1
       },
       "content": {
        "cell": "35373abd-fbe7-42c7-8c3e-3318e943739d",
        "part": "whole"
       },
       "id": "b2058c11-5fc7-43ab-986a-f1f719b6e516"
      }
     }
    },
    "d2e4c00d-6465-4bc5-87d0-eb01d0332de0": {
     "id": "d2e4c00d-6465-4bc5-87d0-eb01d0332de0",
     "prev": "9fa58131-0927-4e9f-a3ff-63abb49ca76d",
     "regions": {
      "8bf0c41b-4eaa-4f7d-9e28-be7625665d0a": {
       "attrs": {
        "height": 0.8,
        "width": 0.8,
        "x": 0.1,
        "y": 0.1
       },
       "content": {
        "cell": "4439e70a-f2ed-4d4b-b51a-5e21588f9ede",
        "part": "whole"
       },
       "id": "8bf0c41b-4eaa-4f7d-9e28-be7625665d0a"
      }
     }
    },
    "d3ec77fb-4682-432d-895d-9af544a76072": {
     "id": "d3ec77fb-4682-432d-895d-9af544a76072",
     "prev": "f4c71479-96b2-4b83-94b7-e6a197e7882c",
     "regions": {
      "2cf1cd40-93e3-4b85-89db-5f1e8f82ddb4": {
       "attrs": {
        "height": 0.8,
        "width": 0.8,
        "x": 0.1,
        "y": 0.1
       },
       "content": {
        "cell": "73551960-c564-4372-afe8-4c8ef0d07a6a",
        "part": "whole"
       },
       "id": "2cf1cd40-93e3-4b85-89db-5f1e8f82ddb4"
      }
     }
    },
    "d5536cc0-c211-4c25-914e-0c821de98782": {
     "id": "d5536cc0-c211-4c25-914e-0c821de98782",
     "prev": "45f14e54-1904-4291-9ecd-51b492795969",
     "regions": {
      "67c5fa97-5d30-4990-a0bd-812639129d7f": {
       "attrs": {
        "height": 0.8,
        "width": 0.8,
        "x": 0.1,
        "y": 0.1
       },
       "content": {
        "cell": "56313b27-6ecd-4581-a757-a8872b4004cd",
        "part": "whole"
       },
       "id": "67c5fa97-5d30-4990-a0bd-812639129d7f"
      }
     }
    },
    "e486a112-0de9-4e2a-a2ea-1a49eabd1089": {
     "id": "e486a112-0de9-4e2a-a2ea-1a49eabd1089",
     "prev": "92c72a60-ff7f-4db0-9de4-bb1fb36ed0aa",
     "regions": {
      "7a76cfca-11cb-4c0c-b996-e902dee76ebb": {
       "attrs": {
        "height": 0.8,
        "width": 0.8,
        "x": 0.1,
        "y": 0.1
       },
       "content": {
        "cell": "c01ca1cc-f568-4815-8875-a000a8c79684",
        "part": "whole"
       },
       "id": "7a76cfca-11cb-4c0c-b996-e902dee76ebb"
      }
     }
    },
    "f4c71479-96b2-4b83-94b7-e6a197e7882c": {
     "id": "f4c71479-96b2-4b83-94b7-e6a197e7882c",
     "prev": "579cf841-e28b-44f6-95a6-a92a28c6b447",
     "regions": {
      "e6468d2a-1409-4f04-9b16-35fee05ff14b": {
       "attrs": {
        "height": 0.8,
        "width": 0.8,
        "x": 0.1,
        "y": 0.1
       },
       "content": {
        "cell": "006b1ca0-5d9a-468f-aac4-a969998b998d",
        "part": "whole"
       },
       "id": "e6468d2a-1409-4f04-9b16-35fee05ff14b"
      }
     }
    }
   },
   "themes": {}
  }
 },
 "nbformat": 4,
 "nbformat_minor": 1
}
